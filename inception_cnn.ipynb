{
  "cells": [
    {
      "cell_type": "code",
      "execution_count": null,
      "metadata": {
        "colab": {
          "base_uri": "https://localhost:8080/",
          "height": 1000
        },
        "id": "YlD4CoMd7SvY",
        "outputId": "401593b7-394a-439d-a4fc-87cecbabe388"
      },
      "outputs": [
        {
          "output_type": "stream",
          "name": "stdout",
          "text": [
            "Found existing installation: tensorflow 2.15.0\n",
            "Uninstalling tensorflow-2.15.0:\n",
            "  Would remove:\n",
            "    /usr/local/bin/estimator_ckpt_converter\n",
            "    /usr/local/bin/import_pb_to_tensorboard\n",
            "    /usr/local/bin/saved_model_cli\n",
            "    /usr/local/bin/tensorboard\n",
            "    /usr/local/bin/tf_upgrade_v2\n",
            "    /usr/local/bin/tflite_convert\n",
            "    /usr/local/bin/toco\n",
            "    /usr/local/bin/toco_from_protos\n",
            "    /usr/local/lib/python3.10/dist-packages/tensorflow-2.15.0.dist-info/*\n",
            "    /usr/local/lib/python3.10/dist-packages/tensorflow/*\n",
            "Proceed (Y/n)? Y\n",
            "  Successfully uninstalled tensorflow-2.15.0\n",
            "Collecting tensorflow==2.12.0\n",
            "  Downloading tensorflow-2.12.0-cp310-cp310-manylinux_2_17_x86_64.manylinux2014_x86_64.whl (585.9 MB)\n",
            "\u001b[2K     \u001b[90m━━━━━━━━━━━━━━━━━━━━━━━━━━━━━━━━━━━━━━━━\u001b[0m \u001b[32m585.9/585.9 MB\u001b[0m \u001b[31m2.0 MB/s\u001b[0m eta \u001b[36m0:00:00\u001b[0m\n",
            "\u001b[?25hRequirement already satisfied: absl-py>=1.0.0 in /usr/local/lib/python3.10/dist-packages (from tensorflow==2.12.0) (1.4.0)\n",
            "Requirement already satisfied: astunparse>=1.6.0 in /usr/local/lib/python3.10/dist-packages (from tensorflow==2.12.0) (1.6.3)\n",
            "Requirement already satisfied: flatbuffers>=2.0 in /usr/local/lib/python3.10/dist-packages (from tensorflow==2.12.0) (24.3.25)\n",
            "Collecting gast<=0.4.0,>=0.2.1 (from tensorflow==2.12.0)\n",
            "  Downloading gast-0.4.0-py3-none-any.whl (9.8 kB)\n",
            "Requirement already satisfied: google-pasta>=0.1.1 in /usr/local/lib/python3.10/dist-packages (from tensorflow==2.12.0) (0.2.0)\n",
            "Requirement already satisfied: grpcio<2.0,>=1.24.3 in /usr/local/lib/python3.10/dist-packages (from tensorflow==2.12.0) (1.62.2)\n",
            "Requirement already satisfied: h5py>=2.9.0 in /usr/local/lib/python3.10/dist-packages (from tensorflow==2.12.0) (3.9.0)\n",
            "Requirement already satisfied: jax>=0.3.15 in /usr/local/lib/python3.10/dist-packages (from tensorflow==2.12.0) (0.4.26)\n",
            "Collecting keras<2.13,>=2.12.0 (from tensorflow==2.12.0)\n",
            "  Downloading keras-2.12.0-py2.py3-none-any.whl (1.7 MB)\n",
            "\u001b[2K     \u001b[90m━━━━━━━━━━━━━━━━━━━━━━━━━━━━━━━━━━━━━━━━\u001b[0m \u001b[32m1.7/1.7 MB\u001b[0m \u001b[31m75.3 MB/s\u001b[0m eta \u001b[36m0:00:00\u001b[0m\n",
            "\u001b[?25hRequirement already satisfied: libclang>=13.0.0 in /usr/local/lib/python3.10/dist-packages (from tensorflow==2.12.0) (18.1.1)\n",
            "Collecting numpy<1.24,>=1.22 (from tensorflow==2.12.0)\n",
            "  Downloading numpy-1.23.5-cp310-cp310-manylinux_2_17_x86_64.manylinux2014_x86_64.whl (17.1 MB)\n",
            "\u001b[2K     \u001b[90m━━━━━━━━━━━━━━━━━━━━━━━━━━━━━━━━━━━━━━━━\u001b[0m \u001b[32m17.1/17.1 MB\u001b[0m \u001b[31m63.2 MB/s\u001b[0m eta \u001b[36m0:00:00\u001b[0m\n",
            "\u001b[?25hRequirement already satisfied: opt-einsum>=2.3.2 in /usr/local/lib/python3.10/dist-packages (from tensorflow==2.12.0) (3.3.0)\n",
            "Requirement already satisfied: packaging in /usr/local/lib/python3.10/dist-packages (from tensorflow==2.12.0) (24.0)\n",
            "Requirement already satisfied: protobuf!=4.21.0,!=4.21.1,!=4.21.2,!=4.21.3,!=4.21.4,!=4.21.5,<5.0.0dev,>=3.20.3 in /usr/local/lib/python3.10/dist-packages (from tensorflow==2.12.0) (3.20.3)\n",
            "Requirement already satisfied: setuptools in /usr/local/lib/python3.10/dist-packages (from tensorflow==2.12.0) (67.7.2)\n",
            "Requirement already satisfied: six>=1.12.0 in /usr/local/lib/python3.10/dist-packages (from tensorflow==2.12.0) (1.16.0)\n",
            "Collecting tensorboard<2.13,>=2.12 (from tensorflow==2.12.0)\n",
            "  Downloading tensorboard-2.12.3-py3-none-any.whl (5.6 MB)\n",
            "\u001b[2K     \u001b[90m━━━━━━━━━━━━━━━━━━━━━━━━━━━━━━━━━━━━━━━━\u001b[0m \u001b[32m5.6/5.6 MB\u001b[0m \u001b[31m89.3 MB/s\u001b[0m eta \u001b[36m0:00:00\u001b[0m\n",
            "\u001b[?25hCollecting tensorflow-estimator<2.13,>=2.12.0 (from tensorflow==2.12.0)\n",
            "  Downloading tensorflow_estimator-2.12.0-py2.py3-none-any.whl (440 kB)\n",
            "\u001b[2K     \u001b[90m━━━━━━━━━━━━━━━━━━━━━━━━━━━━━━━━━━━━━━━━\u001b[0m \u001b[32m440.7/440.7 kB\u001b[0m \u001b[31m41.3 MB/s\u001b[0m eta \u001b[36m0:00:00\u001b[0m\n",
            "\u001b[?25hRequirement already satisfied: termcolor>=1.1.0 in /usr/local/lib/python3.10/dist-packages (from tensorflow==2.12.0) (2.4.0)\n",
            "Requirement already satisfied: typing-extensions>=3.6.6 in /usr/local/lib/python3.10/dist-packages (from tensorflow==2.12.0) (4.11.0)\n",
            "Requirement already satisfied: wrapt<1.15,>=1.11.0 in /usr/local/lib/python3.10/dist-packages (from tensorflow==2.12.0) (1.14.1)\n",
            "Requirement already satisfied: tensorflow-io-gcs-filesystem>=0.23.1 in /usr/local/lib/python3.10/dist-packages (from tensorflow==2.12.0) (0.36.0)\n",
            "Requirement already satisfied: wheel<1.0,>=0.23.0 in /usr/local/lib/python3.10/dist-packages (from astunparse>=1.6.0->tensorflow==2.12.0) (0.43.0)\n",
            "Requirement already satisfied: ml-dtypes>=0.2.0 in /usr/local/lib/python3.10/dist-packages (from jax>=0.3.15->tensorflow==2.12.0) (0.2.0)\n",
            "Requirement already satisfied: scipy>=1.9 in /usr/local/lib/python3.10/dist-packages (from jax>=0.3.15->tensorflow==2.12.0) (1.11.4)\n",
            "Requirement already satisfied: google-auth<3,>=1.6.3 in /usr/local/lib/python3.10/dist-packages (from tensorboard<2.13,>=2.12->tensorflow==2.12.0) (2.27.0)\n",
            "Collecting google-auth-oauthlib<1.1,>=0.5 (from tensorboard<2.13,>=2.12->tensorflow==2.12.0)\n",
            "  Downloading google_auth_oauthlib-1.0.0-py2.py3-none-any.whl (18 kB)\n",
            "Requirement already satisfied: markdown>=2.6.8 in /usr/local/lib/python3.10/dist-packages (from tensorboard<2.13,>=2.12->tensorflow==2.12.0) (3.6)\n",
            "Requirement already satisfied: requests<3,>=2.21.0 in /usr/local/lib/python3.10/dist-packages (from tensorboard<2.13,>=2.12->tensorflow==2.12.0) (2.31.0)\n",
            "Requirement already satisfied: tensorboard-data-server<0.8.0,>=0.7.0 in /usr/local/lib/python3.10/dist-packages (from tensorboard<2.13,>=2.12->tensorflow==2.12.0) (0.7.2)\n",
            "Requirement already satisfied: werkzeug>=1.0.1 in /usr/local/lib/python3.10/dist-packages (from tensorboard<2.13,>=2.12->tensorflow==2.12.0) (3.0.2)\n",
            "Requirement already satisfied: cachetools<6.0,>=2.0.0 in /usr/local/lib/python3.10/dist-packages (from google-auth<3,>=1.6.3->tensorboard<2.13,>=2.12->tensorflow==2.12.0) (5.3.3)\n",
            "Requirement already satisfied: pyasn1-modules>=0.2.1 in /usr/local/lib/python3.10/dist-packages (from google-auth<3,>=1.6.3->tensorboard<2.13,>=2.12->tensorflow==2.12.0) (0.4.0)\n",
            "Requirement already satisfied: rsa<5,>=3.1.4 in /usr/local/lib/python3.10/dist-packages (from google-auth<3,>=1.6.3->tensorboard<2.13,>=2.12->tensorflow==2.12.0) (4.9)\n",
            "Requirement already satisfied: requests-oauthlib>=0.7.0 in /usr/local/lib/python3.10/dist-packages (from google-auth-oauthlib<1.1,>=0.5->tensorboard<2.13,>=2.12->tensorflow==2.12.0) (1.3.1)\n",
            "Requirement already satisfied: charset-normalizer<4,>=2 in /usr/local/lib/python3.10/dist-packages (from requests<3,>=2.21.0->tensorboard<2.13,>=2.12->tensorflow==2.12.0) (3.3.2)\n",
            "Requirement already satisfied: idna<4,>=2.5 in /usr/local/lib/python3.10/dist-packages (from requests<3,>=2.21.0->tensorboard<2.13,>=2.12->tensorflow==2.12.0) (3.7)\n",
            "Requirement already satisfied: urllib3<3,>=1.21.1 in /usr/local/lib/python3.10/dist-packages (from requests<3,>=2.21.0->tensorboard<2.13,>=2.12->tensorflow==2.12.0) (2.0.7)\n",
            "Requirement already satisfied: certifi>=2017.4.17 in /usr/local/lib/python3.10/dist-packages (from requests<3,>=2.21.0->tensorboard<2.13,>=2.12->tensorflow==2.12.0) (2024.2.2)\n",
            "Requirement already satisfied: MarkupSafe>=2.1.1 in /usr/local/lib/python3.10/dist-packages (from werkzeug>=1.0.1->tensorboard<2.13,>=2.12->tensorflow==2.12.0) (2.1.5)\n",
            "Requirement already satisfied: pyasn1<0.7.0,>=0.4.6 in /usr/local/lib/python3.10/dist-packages (from pyasn1-modules>=0.2.1->google-auth<3,>=1.6.3->tensorboard<2.13,>=2.12->tensorflow==2.12.0) (0.6.0)\n",
            "Requirement already satisfied: oauthlib>=3.0.0 in /usr/local/lib/python3.10/dist-packages (from requests-oauthlib>=0.7.0->google-auth-oauthlib<1.1,>=0.5->tensorboard<2.13,>=2.12->tensorflow==2.12.0) (3.2.2)\n",
            "Installing collected packages: tensorflow-estimator, numpy, keras, gast, google-auth-oauthlib, tensorboard, tensorflow\n",
            "  Attempting uninstall: tensorflow-estimator\n",
            "    Found existing installation: tensorflow-estimator 2.15.0\n",
            "    Uninstalling tensorflow-estimator-2.15.0:\n",
            "      Successfully uninstalled tensorflow-estimator-2.15.0\n",
            "  Attempting uninstall: numpy\n",
            "    Found existing installation: numpy 1.25.2\n",
            "    Uninstalling numpy-1.25.2:\n",
            "      Successfully uninstalled numpy-1.25.2\n",
            "  Attempting uninstall: keras\n",
            "    Found existing installation: keras 2.15.0\n",
            "    Uninstalling keras-2.15.0:\n",
            "      Successfully uninstalled keras-2.15.0\n",
            "  Attempting uninstall: gast\n",
            "    Found existing installation: gast 0.5.4\n",
            "    Uninstalling gast-0.5.4:\n",
            "      Successfully uninstalled gast-0.5.4\n",
            "  Attempting uninstall: google-auth-oauthlib\n",
            "    Found existing installation: google-auth-oauthlib 1.2.0\n",
            "    Uninstalling google-auth-oauthlib-1.2.0:\n",
            "      Successfully uninstalled google-auth-oauthlib-1.2.0\n",
            "  Attempting uninstall: tensorboard\n",
            "    Found existing installation: tensorboard 2.15.2\n",
            "    Uninstalling tensorboard-2.15.2:\n",
            "      Successfully uninstalled tensorboard-2.15.2\n",
            "\u001b[31mERROR: pip's dependency resolver does not currently take into account all the packages that are installed. This behaviour is the source of the following dependency conflicts.\n",
            "chex 0.1.86 requires numpy>=1.24.1, but you have numpy 1.23.5 which is incompatible.\n",
            "pandas-stubs 2.0.3.230814 requires numpy>=1.25.0; python_version >= \"3.9\", but you have numpy 1.23.5 which is incompatible.\n",
            "tf-keras 2.15.1 requires tensorflow<2.16,>=2.15, but you have tensorflow 2.12.0 which is incompatible.\u001b[0m\u001b[31m\n",
            "\u001b[0mSuccessfully installed gast-0.4.0 google-auth-oauthlib-1.0.0 keras-2.12.0 numpy-1.23.5 tensorboard-2.12.3 tensorflow-2.12.0 tensorflow-estimator-2.12.0\n"
          ]
        },
        {
          "output_type": "display_data",
          "data": {
            "application/vnd.colab-display-data+json": {
              "pip_warning": {
                "packages": [
                  "numpy"
                ]
              },
              "id": "fd9a3007949f4f9f9d14be252236b9a6"
            }
          },
          "metadata": {}
        }
      ],
      "source": [
        "!pip uninstall tensorflow\n",
        "!pip install tensorflow==2.12.0"
      ]
    },
    {
      "cell_type": "code",
      "execution_count": null,
      "metadata": {
        "id": "kAF_6s1flB49"
      },
      "outputs": [],
      "source": [
        "# Common imports\n",
        "import os\n",
        "import numpy as np\n",
        "import zipfile\n",
        "import random\n",
        "import shutil\n",
        "import tensorflow as tf\n",
        "from tensorflow import keras\n",
        "from typing import Tuple, List\n",
        "from shutil import copyfile\n",
        "\n",
        "# Data Imports\n",
        "import pandas as pd\n",
        "from tqdm import tqdm\n",
        "from glob import glob\n",
        "from tensorflow import data as tfd\n",
        "from tensorflow import image as tfi\n",
        "\n",
        "# Data Visualization\n",
        "import plotly.express as px\n",
        "import seaborn as sns\n",
        "import matplotlib.pyplot as plt\n",
        "from IPython.display import clear_output as cls\n",
        "import PIL\n",
        "\n",
        "# Model Architecture\n",
        "from tensorflow.keras.preprocessing.image import ImageDataGenerator\n",
        "from tensorflow.keras import layers, models\n",
        "from keras.layers import Dense, Flatten, Dropout, Activation\n",
        "from keras.models import Sequential\n",
        "from tensorflow.keras.optimizers import SGD\n",
        "from tensorflow.keras.applications import VGG16, InceptionV3, ResNet50, MobileNetV2, EfficientNetB7, Xception\n",
        "\n",
        "# Model Training\n",
        "from tensorflow.keras.optimizers import Adam\n",
        "from tensorflow.keras.callbacks import EarlyStopping\n",
        "from tensorflow.keras.callbacks import ModelCheckpoint\n",
        "from sklearn.metrics import precision_score, recall_score, f1_score, classification_report\n",
        "\n",
        "# Hyperparameter Tuning\n",
        "from sklearn.model_selection import RandomizedSearchCV\n",
        "from tensorflow.keras.wrappers.scikit_learn import KerasClassifier\n",
        "\n",
        "# Analysis\n",
        "from sklearn.metrics import confusion_matrix\n",
        "import seaborn as sns\n",
        "from tensorflow.keras.callbacks import Callback"
      ]
    },
    {
      "cell_type": "code",
      "execution_count": null,
      "metadata": {
        "colab": {
          "base_uri": "https://localhost:8080/"
        },
        "id": "18BbhfHtpMCd",
        "outputId": "fde97316-b7c4-461d-8aec-3e9b4601fd20"
      },
      "outputs": [
        {
          "output_type": "stream",
          "name": "stdout",
          "text": [
            "Mounted at /content/drive\n"
          ]
        }
      ],
      "source": [
        "#Load Data\n",
        "\n",
        "from google.colab import drive\n",
        "drive.mount('/content/drive')\n",
        "\n",
        "ORIGINAL_TRAIN_DIR = \"/content/drive/MyDrive/Deep Learning Group Project/original_data/train\"\n",
        "ORIGINAL_TEST_DIR = \"/content/drive/MyDrive/Deep Learning Group Project/original_data/test\""
      ]
    },
    {
      "cell_type": "code",
      "execution_count": null,
      "metadata": {
        "colab": {
          "base_uri": "https://localhost:8080/"
        },
        "id": "BRBs1_yWsC2t",
        "outputId": "656e0ecb-3045-4ed1-e216-8e5c3b14c36d"
      },
      "outputs": [
        {
          "output_type": "stream",
          "name": "stdout",
          "text": [
            "Dir Already Exists\n"
          ]
        }
      ],
      "source": [
        "# Specify the directory paths for the data (train , test , validate)\n",
        "# Define root directory\n",
        "root_dir = '/content/drive/MyDrive/Deep Learning Group Project/images/'\n",
        "TRAINING_DIR =f\"{root_dir}train/\"  # path to the directory containing train  data\n",
        "VALIDATION_DIR = f\"{root_dir}valid/\" # path to the directory containing validation data\n",
        "TEST_DIR = f\"{root_dir}test/\" # path to the directory containing test data\n",
        "\n",
        "try:\n",
        "    os.mkdir(root_dir)\n",
        "    os.mkdir(TRAINING_DIR)\n",
        "    os.mkdir(VALIDATION_DIR)\n",
        "    os.mkdir(TEST_DIR)\n",
        "except FileExistsError:\n",
        "    print(\"Dir Already Exists\")"
      ]
    },
    {
      "cell_type": "code",
      "execution_count": null,
      "metadata": {
        "id": "Wr9bg7Ogmai6"
      },
      "outputs": [],
      "source": [
        "# Constants\n",
        "IMAGE_SIZE = 160 # size of the input image\n",
        "BATCH_SIZE = 32 # number of samples per gradient update\n",
        "EPOCHS = 50 # number of epochs to train the model\n",
        "NUM_CLASSES = 9 # number of classes at the dataset\n",
        "SPLIT_SIZE = .8 # Define proportion of images used for training\n",
        "\n",
        "# Model training\n",
        "LOSS = 'sparse_categorical_crossentropy'\n",
        "METRICS = ['accuracy']\n",
        "\n",
        "# Hyperparameters\n",
        "LEARNING_RATE = 1e-3 # learning rate for the optimizer\n",
        "\n",
        "# Random Seed\n",
        "RANDOM_SEED = 48 # set random seed for reproducibility\n",
        "os.environ['PYTHONHASHSEED']=str(RANDOM_SEED)\n",
        "random.seed(RANDOM_SEED)\n",
        "tf.random.set_seed(RANDOM_SEED) # set random seed for TensorFlow\n",
        "np.random.seed(RANDOM_SEED) # set random seed for NumPy\n",
        "tf.config.threading.set_inter_op_parallelism_threads(1)\n",
        "tf.config.threading.set_intra_op_parallelism_threads(1)"
      ]
    },
    {
      "cell_type": "code",
      "execution_count": null,
      "metadata": {
        "id": "BcR0YNNjr3Aa"
      },
      "outputs": [],
      "source": [
        "#  create_train_val_dirs\n",
        "def create_train_val_dirs(root_path):\n",
        "\n",
        "  os.mkdir(root_path)\n",
        "  os.mkdir(root_path+'/train')\n",
        "  os.mkdir(root_path+'/val')\n",
        "  os.mkdir(root_path+'/train/Fish')\n",
        "  os.mkdir(root_path+'/train/Goldfish')\n",
        "  os.mkdir(root_path+'/train/Harbor seal')\n",
        "  os.mkdir(root_path+'/train/Jellyfish')\n",
        "  os.mkdir(root_path+'/train/Lobster')\n",
        "  os.mkdir(root_path+'/train/Oyster')\n",
        "  os.mkdir(root_path+'/train/Sea turtle')\n",
        "  os.mkdir(root_path+'/train/Squid')\n",
        "  os.mkdir(root_path+'/train/Starfish')\n",
        "\n",
        "  os.mkdir(root_path+'/val/Fish')\n",
        "  os.mkdir(root_path+'/val/Goldfish')\n",
        "  os.mkdir(root_path+'/val/Harbor seal')\n",
        "  os.mkdir(root_path+'/val/Jellyfish')\n",
        "  os.mkdir(root_path+'/val/Lobster')\n",
        "  os.mkdir(root_path+'/val/Oyster')\n",
        "  os.mkdir(root_path+'/val/Sea turtle')\n",
        "  os.mkdir(root_path+'/val/Squid')\n",
        "  os.mkdir(root_path+'/val/Starfish')"
      ]
    },
    {
      "cell_type": "code",
      "execution_count": null,
      "metadata": {
        "id": "1doRyJ25r4ci"
      },
      "outputs": [],
      "source": [
        "# Call create_train_val_dirs\n",
        "\n",
        "# Empty directory to prevent FileExistsError is the function is run several times\n",
        "if os.path.exists(root_dir):\n",
        "  shutil.rmtree(root_dir)\n",
        "try:\n",
        "    create_train_val_dirs(root_path=root_dir)\n",
        "except FileExistsError:\n",
        "    print(\"Error\")"
      ]
    },
    {
      "cell_type": "code",
      "execution_count": null,
      "metadata": {
        "colab": {
          "base_uri": "https://localhost:8080/"
        },
        "id": "FLkMpnhEsBfw",
        "outputId": "c7caead7-d556-4dbe-c516-4d13741f40b4"
      },
      "outputs": [
        {
          "output_type": "stream",
          "name": "stdout",
          "text": [
            "/content/drive/MyDrive/Deep Learning Group Project/images/train\n",
            "/content/drive/MyDrive/Deep Learning Group Project/images/val\n",
            "/content/drive/MyDrive/Deep Learning Group Project/images/train/Fish\n",
            "/content/drive/MyDrive/Deep Learning Group Project/images/train/Goldfish\n",
            "/content/drive/MyDrive/Deep Learning Group Project/images/train/Harbor seal\n",
            "/content/drive/MyDrive/Deep Learning Group Project/images/train/Jellyfish\n",
            "/content/drive/MyDrive/Deep Learning Group Project/images/train/Lobster\n",
            "/content/drive/MyDrive/Deep Learning Group Project/images/train/Oyster\n",
            "/content/drive/MyDrive/Deep Learning Group Project/images/train/Sea turtle\n",
            "/content/drive/MyDrive/Deep Learning Group Project/images/train/Squid\n",
            "/content/drive/MyDrive/Deep Learning Group Project/images/train/Starfish\n",
            "/content/drive/MyDrive/Deep Learning Group Project/images/val/Fish\n",
            "/content/drive/MyDrive/Deep Learning Group Project/images/val/Goldfish\n",
            "/content/drive/MyDrive/Deep Learning Group Project/images/val/Harbor seal\n",
            "/content/drive/MyDrive/Deep Learning Group Project/images/val/Jellyfish\n",
            "/content/drive/MyDrive/Deep Learning Group Project/images/val/Lobster\n",
            "/content/drive/MyDrive/Deep Learning Group Project/images/val/Oyster\n",
            "/content/drive/MyDrive/Deep Learning Group Project/images/val/Sea turtle\n",
            "/content/drive/MyDrive/Deep Learning Group Project/images/val/Squid\n",
            "/content/drive/MyDrive/Deep Learning Group Project/images/val/Starfish\n"
          ]
        }
      ],
      "source": [
        "# Test your create_train_val_dirs function\n",
        "for rootdir, dirs, files in os.walk(root_dir):\n",
        "    for subdir in dirs:\n",
        "        print(os.path.join(rootdir, subdir))"
      ]
    },
    {
      "cell_type": "code",
      "execution_count": null,
      "metadata": {
        "id": "paiGFgn5sPXi"
      },
      "outputs": [],
      "source": [
        "# split_data\n",
        "def split_data(SOURCE_DIR, TRAINING_DIR, VALIDATION_DIR, SPLIT_SIZE):\n",
        "  \"\"\"\n",
        "  Splits the data into train and test sets\n",
        "\n",
        "  Args:\n",
        "    SOURCE_DIR (string): directory path containing the images\n",
        "    TRAINING_DIR (string): directory path to be used for training\n",
        "    VALIDATION_DIR (string): directory path to be used for validation\n",
        "    SPLIT_SIZE (float): proportion of the dataset to be used for training\n",
        "\n",
        "  Returns:\n",
        "    None\n",
        "  \"\"\"\n",
        "\n",
        "  files = []\n",
        "  for filename in os.listdir(SOURCE_DIR):\n",
        "      file = SOURCE_DIR + filename\n",
        "      if os.path.getsize(file) > 0:\n",
        "          files.append(filename)\n",
        "      else:\n",
        "          print(filename + \" is zero length, so ignoring.\")\n",
        "\n",
        "  training_length = int(len(files) * SPLIT_SIZE)\n",
        "  testing_length = int(len(files) - training_length)\n",
        "  shuffled_set = random.sample(files, len(files))\n",
        "  training_set = shuffled_set[0:training_length]\n",
        "  testing_set = shuffled_set[-testing_length:]\n",
        "\n",
        "  for filename in training_set:\n",
        "      this_file = SOURCE_DIR + filename\n",
        "      destination = TRAINING_DIR + filename\n",
        "      copyfile(this_file, destination)\n",
        "\n",
        "  for filename in testing_set:\n",
        "      this_file = SOURCE_DIR + filename\n",
        "      destination = VALIDATION_DIR + filename\n",
        "      copyfile(this_file, destination)"
      ]
    },
    {
      "cell_type": "code",
      "execution_count": null,
      "metadata": {
        "id": "yxcLl_YjsTPa",
        "colab": {
          "base_uri": "https://localhost:8080/"
        },
        "outputId": "a6220265-3868-42e4-86f0-2c8ce9abf511"
      },
      "outputs": [
        {
          "output_type": "stream",
          "name": "stdout",
          "text": [
            "/content/drive/MyDrive/Deep Learning Group Project/original_data/train/Fish/\n",
            "/content/drive/MyDrive/Deep Learning Group Project/images/train/Fish/\n",
            "/content/drive/MyDrive/Deep Learning Group Project/images/val/Fish/\n",
            "Original Fish's directory has 89 images\n",
            "There are 71 images of Fish for training\n",
            "There are 18 images of Fish for validation\n",
            "\n",
            "\n",
            "\n",
            "Original Goldfish's directory has 65 images\n",
            "There are 52 images of Goldfish for training\n",
            "There are 13 images of Goldfish for validation\n",
            "\n",
            "\n",
            "\n",
            "Original Harbor seal's directory has 46 images\n",
            "There are 36 images of Harbor seal for training\n",
            "There are 10 images of Harbor seal for validation\n",
            "\n",
            "\n",
            "\n",
            "Original Jellyfish's directory has 85 images\n",
            "There are 68 images of Jellyfish for training\n",
            "There are 17 images of Jellyfish for validation\n",
            "\n",
            "\n",
            "\n",
            "Original Lobster's directory has 39 images\n",
            "There are 31 images of Lobster for training\n",
            "There are 8 images of Lobster for validation\n",
            "\n",
            "\n",
            "\n",
            "Original Oyster's directory has 62 images\n",
            "There are 49 images of Oyster for training\n",
            "There are 13 images of Oyster for validation\n",
            "\n",
            "\n",
            "\n",
            "Original Sea turtle's directory has 82 images\n",
            "There are 65 images of Sea turtle for training\n",
            "There are 17 images of Sea turtle for validation\n",
            "\n",
            "\n",
            "\n",
            "Original Squid's directory has 49 images\n",
            "There are 39 images of Squid for training\n",
            "There are 10 images of Squid for validation\n",
            "\n",
            "\n",
            "\n",
            "Original Starfish's directory has 104 images\n",
            "There are 83 images of Starfish for training\n",
            "There are 21 images of Starfish for validation\n",
            "\n",
            "\n",
            "\n"
          ]
        }
      ],
      "source": [
        "# Test your split_data function\n",
        "# Define paths\n",
        "\n",
        "\n",
        "Fish_SOURCE_DIR = f\"{ORIGINAL_TRAIN_DIR}/Fish/\"\n",
        "Goldfish_SOURCE_DIR = f\"{ORIGINAL_TRAIN_DIR}/Goldfish/\"\n",
        "Harbor_seal_SOURCE_DIR = f\"{ORIGINAL_TRAIN_DIR}/Harbor seal/\"\n",
        "Jellyfish_SOURCE_DIR = f\"{ORIGINAL_TRAIN_DIR}/Jellyfish/\"\n",
        "Lobster_SOURCE_DIR = f\"{ORIGINAL_TRAIN_DIR}/Lobster/\"\n",
        "Oyster_SOURCE_DIR = f\"{ORIGINAL_TRAIN_DIR}/Oyster/\"\n",
        "Sea_turtle_SOURCE_DIR = f\"{ORIGINAL_TRAIN_DIR}/Sea turtle/\"\n",
        "Squid_SOURCE_DIR = f\"{ORIGINAL_TRAIN_DIR}/Squid/\"\n",
        "Starfish_SOURCE_DIR = f\"{ORIGINAL_TRAIN_DIR}/Starfish/\"\n",
        "\n",
        "\n",
        "TRAINING_DIR = \"/content/drive/MyDrive/Deep Learning Group Project/images/train/\"\n",
        "VALIDATION_DIR = \"/content/drive/MyDrive/Deep Learning Group Project/images/val/\"\n",
        "TRAINING_Fish_DIR = os.path.join(TRAINING_DIR, \"Fish/\")\n",
        "VALIDATION_Fish_DIR = os.path.join(VALIDATION_DIR, \"Fish/\")\n",
        "TRAINING_Goldfish_DIR = os.path.join(TRAINING_DIR, \"Goldfish/\")\n",
        "VALIDATION_Goldfish_DIR = os.path.join(VALIDATION_DIR, \"Goldfish/\")\n",
        "TRAINING_Harbor_seal_DIR = os.path.join(TRAINING_DIR, \"Harbor seal/\")\n",
        "VALIDATION_Harbor_seal_DIR = os.path.join(VALIDATION_DIR, \"Harbor seal/\")\n",
        "TRAINING_Jellyfish_DIR = os.path.join(TRAINING_DIR, \"Jellyfish/\")\n",
        "VALIDATION_Jellyfish_DIR = os.path.join(VALIDATION_DIR, \"Jellyfish/\")\n",
        "TRAINING_Lobster_DIR = os.path.join(TRAINING_DIR, \"Lobster/\")\n",
        "VALIDATION_Lobster_DIR = os.path.join(VALIDATION_DIR, \"Lobster/\")\n",
        "TRAINING_Oyster_DIR = os.path.join(TRAINING_DIR, \"Oyster/\")\n",
        "VALIDATION_Oyster_DIR = os.path.join(VALIDATION_DIR, \"Oyster/\")\n",
        "TRAINING_Sea_turtle_DIR = os.path.join(TRAINING_DIR, \"Sea turtle/\")\n",
        "VALIDATION_Sea_turtle_DIR = os.path.join(VALIDATION_DIR, \"Sea turtle/\")\n",
        "TRAINING_Squid_DIR = os.path.join(TRAINING_DIR, \"Squid/\")\n",
        "VALIDATION_Squid_DIR = os.path.join(VALIDATION_DIR, \"Squid/\")\n",
        "TRAINING_Starfish_DIR = os.path.join(TRAINING_DIR, \"Starfish/\")\n",
        "VALIDATION_Starfish_DIR = os.path.join(VALIDATION_DIR, \"Starfish/\")\n",
        "\n",
        "# Empty directories in case you run this cell multiple times\n",
        "\n",
        "if len(os.listdir(TRAINING_Fish_DIR)) > 0:\n",
        "  for file in os.scandir(TRAINING_Fish_DIR):\n",
        "    os.remove(file.path)\n",
        "if len(os.listdir(TRAINING_Goldfish_DIR)) > 0:\n",
        "  for file in os.scandir(TRAINING_Goldfish_DIR):\n",
        "    os.remove(file.path)\n",
        "if len(os.listdir(TRAINING_Harbor_seal_DIR)) > 0:\n",
        "  for file in os.scandir(TRAINING_Harbor_seal_DIR):\n",
        "    os.remove(file.path)\n",
        "if len(os.listdir(TRAINING_Jellyfish_DIR)) > 0:\n",
        "  for file in os.scandir(TRAINING_Jellyfish_DIR):\n",
        "    os.remove(file.path)\n",
        "if len(os.listdir(TRAINING_Lobster_DIR)) > 0:\n",
        "  for file in os.scandir(TRAINING_Lobster_DIR):\n",
        "    os.remove(file.path)\n",
        "if len(os.listdir(TRAINING_Oyster_DIR)) > 0:\n",
        "  for file in os.scandir(TRAINING_Oyster_DIR):\n",
        "    os.remove(file.path)\n",
        "if len(os.listdir(TRAINING_Sea_turtle_DIR)) > 0:\n",
        "  for file in os.scandir(TRAINING_Sea_turtle_DIR):\n",
        "    os.remove(file.path)\n",
        "if len(os.listdir(TRAINING_Squid_DIR)) > 0:\n",
        "  for file in os.scandir(TRAINING_Squid_DIR):\n",
        "    os.remove(file.path)\n",
        "if len(os.listdir(TRAINING_Starfish_DIR)) > 0:\n",
        "  for file in os.scandir(TRAINING_Starfish_DIR):\n",
        "    os.remove(file.path)\n",
        "\n",
        "# Validation Dirs\n",
        "\n",
        "if len(os.listdir(VALIDATION_Fish_DIR)) > 0:\n",
        "  for file in os.scandir(VALIDATION_Fish_DIR):\n",
        "    os.remove(file.path)\n",
        "if len(os.listdir(VALIDATION_Goldfish_DIR)) > 0:\n",
        "  for file in os.scandir(VALIDATION_Goldfish_DIR):\n",
        "    os.remove(file.path)\n",
        "if len(os.listdir(VALIDATION_Harbor_seal_DIR)) > 0:\n",
        "  for file in os.scandir(VALIDATION_Harbor_seal_DIR):\n",
        "    os.remove(file.path)\n",
        "if len(os.listdir(VALIDATION_Jellyfish_DIR)) > 0:\n",
        "  for file in os.scandir(VALIDATION_Jellyfish_DIR):\n",
        "    os.remove(file.path)\n",
        "if len(os.listdir(VALIDATION_Lobster_DIR)) > 0:\n",
        "  for file in os.scandir(VALIDATION_Lobster_DIR):\n",
        "    os.remove(file.path)\n",
        "if len(os.listdir(VALIDATION_Oyster_DIR)) > 0:\n",
        "  for file in os.scandir(VALIDATION_Oyster_DIR):\n",
        "    os.remove(file.path)\n",
        "if len(os.listdir(VALIDATION_Sea_turtle_DIR)) > 0:\n",
        "  for file in os.scandir(VALIDATION_Sea_turtle_DIR):\n",
        "    os.remove(file.path)\n",
        "if len(os.listdir(VALIDATION_Squid_DIR)) > 0:\n",
        "  for file in os.scandir(VALIDATION_Squid_DIR):\n",
        "    os.remove(file.path)\n",
        "if len(os.listdir(VALIDATION_Starfish_DIR)) > 0:\n",
        "  for file in os.scandir(VALIDATION_Starfish_DIR):\n",
        "    os.remove(file.path)\n",
        "\n",
        "\n",
        "\n",
        "# Run the function\n",
        "split_data(Fish_SOURCE_DIR, TRAINING_Fish_DIR, VALIDATION_Fish_DIR, SPLIT_SIZE)\n",
        "print(Fish_SOURCE_DIR)\n",
        "print(TRAINING_Fish_DIR)\n",
        "print(VALIDATION_Fish_DIR)\n",
        "split_data(Goldfish_SOURCE_DIR , TRAINING_Goldfish_DIR, VALIDATION_Goldfish_DIR, SPLIT_SIZE)\n",
        "split_data(Harbor_seal_SOURCE_DIR , TRAINING_Harbor_seal_DIR , VALIDATION_Harbor_seal_DIR, SPLIT_SIZE)\n",
        "split_data(Jellyfish_SOURCE_DIR, TRAINING_Jellyfish_DIR, VALIDATION_Jellyfish_DIR, SPLIT_SIZE)\n",
        "split_data(Lobster_SOURCE_DIR, TRAINING_Lobster_DIR, VALIDATION_Lobster_DIR, SPLIT_SIZE)\n",
        "split_data(Oyster_SOURCE_DIR, TRAINING_Oyster_DIR, VALIDATION_Oyster_DIR, SPLIT_SIZE)\n",
        "split_data(Sea_turtle_SOURCE_DIR, TRAINING_Sea_turtle_DIR, VALIDATION_Sea_turtle_DIR, SPLIT_SIZE)\n",
        "split_data(Squid_SOURCE_DIR, TRAINING_Squid_DIR, VALIDATION_Squid_DIR, SPLIT_SIZE)\n",
        "split_data(Starfish_SOURCE_DIR, TRAINING_Starfish_DIR, VALIDATION_Starfish_DIR, SPLIT_SIZE)\n",
        "\n",
        "\n",
        "\n",
        "# Check that the number of images matches the expected output\n",
        "# function should perform copies rather than moving images so original directories should contain unchanged images\n",
        "\n",
        "# Training and validation splits\n",
        "num_fish = len(os.listdir(Fish_SOURCE_DIR))\n",
        "print(f\"Original Fish's directory has {num_fish} images\")\n",
        "print(f\"There are {len(os.listdir(TRAINING_Fish_DIR))} images of Fish for training\")\n",
        "print(f\"There are {len(os.listdir(VALIDATION_Fish_DIR))} images of Fish for validation\")\n",
        "print('\\n\\n')\n",
        "\n",
        "num_goldfish = len(os.listdir(Goldfish_SOURCE_DIR))\n",
        "print(f\"Original Goldfish's directory has {num_goldfish} images\")\n",
        "print(f\"There are {len(os.listdir(TRAINING_Goldfish_DIR))} images of Goldfish for training\")\n",
        "print(f\"There are {len(os.listdir(VALIDATION_Goldfish_DIR))} images of Goldfish for validation\")\n",
        "print('\\n\\n')\n",
        "\n",
        "num_seal = len(os.listdir(Harbor_seal_SOURCE_DIR))\n",
        "print(f\"Original Harbor seal's directory has {num_seal} images\")\n",
        "print(f\"There are {len(os.listdir(TRAINING_Harbor_seal_DIR))} images of Harbor seal for training\")\n",
        "print(f\"There are {len(os.listdir(VALIDATION_Harbor_seal_DIR))} images of Harbor seal for validation\")\n",
        "print('\\n\\n')\n",
        "\n",
        "num_jellyfish = len(os.listdir(Jellyfish_SOURCE_DIR))\n",
        "print(f\"Original Jellyfish's directory has {num_jellyfish} images\")\n",
        "print(f\"There are {len(os.listdir(TRAINING_Jellyfish_DIR))} images of Jellyfish for training\")\n",
        "print(f\"There are {len(os.listdir(VALIDATION_Jellyfish_DIR))} images of Jellyfish for validation\")\n",
        "print('\\n\\n')\n",
        "\n",
        "num_lobster = len(os.listdir(Lobster_SOURCE_DIR))\n",
        "print(f\"Original Lobster's directory has {num_lobster} images\")\n",
        "print(f\"There are {len(os.listdir(TRAINING_Lobster_DIR))} images of Lobster for training\")\n",
        "print(f\"There are {len(os.listdir(VALIDATION_Lobster_DIR))} images of Lobster for validation\")\n",
        "print('\\n\\n')\n",
        "\n",
        "num_oyster = len(os.listdir(Oyster_SOURCE_DIR))\n",
        "print(f\"Original Oyster's directory has {num_oyster} images\")\n",
        "print(f\"There are {len(os.listdir(TRAINING_Oyster_DIR))} images of Oyster for training\")\n",
        "print(f\"There are {len(os.listdir(VALIDATION_Oyster_DIR))} images of Oyster for validation\")\n",
        "print('\\n\\n')\n",
        "\n",
        "num_turtle = len(os.listdir(Sea_turtle_SOURCE_DIR))\n",
        "print(f\"Original Sea turtle's directory has {num_turtle} images\")\n",
        "print(f\"There are {len(os.listdir(TRAINING_Sea_turtle_DIR))} images of Sea turtle for training\")\n",
        "print(f\"There are {len(os.listdir(VALIDATION_Sea_turtle_DIR))} images of Sea turtle for validation\")\n",
        "print('\\n\\n')\n",
        "\n",
        "num_squid = len(os.listdir(Squid_SOURCE_DIR))\n",
        "print(f\"Original Squid's directory has {num_squid} images\")\n",
        "print(f\"There are {len(os.listdir(TRAINING_Squid_DIR))} images of Squid for training\")\n",
        "print(f\"There are {len(os.listdir(VALIDATION_Squid_DIR))} images of Squid for validation\")\n",
        "print('\\n\\n')\n",
        "\n",
        "num_starfish = len(os.listdir(Starfish_SOURCE_DIR))\n",
        "print(f\"Original Starfish's directory has {num_starfish} images\")\n",
        "print(f\"There are {len(os.listdir(TRAINING_Starfish_DIR))} images of Starfish for training\")\n",
        "print(f\"There are {len(os.listdir(VALIDATION_Starfish_DIR))} images of Starfish for validation\")\n",
        "print('\\n\\n')"
      ]
    },
    {
      "cell_type": "code",
      "execution_count": null,
      "metadata": {
        "id": "7RS5hUbDzBaO"
      },
      "outputs": [],
      "source": [
        "#  train_val_generators\n",
        "# data preprocessing\n",
        "def train_val_generators(TRAINING_DIR, VALIDATION_DIR , TEST_DIR):\n",
        "  \"\"\"\n",
        "  Creates the training and validation data generators\n",
        "\n",
        "  Args:\n",
        "    TRAINING_DIR (string): directory path containing the training images\n",
        "    VALIDATION_DIR (string): directory path containing the testing/validation images\n",
        "\n",
        "  Returns:\n",
        "    train_generator, validation_generator - tuple containing the generators\n",
        "  \"\"\"\n",
        "\n",
        "  # Instantiate the ImageDataGenerator class\n",
        "  train_datagen = ImageDataGenerator(rescale=1./255.)  # Rescale pixel values to be between 0 and 1\n",
        "\n",
        "  # Pass in the appropriate arguments to the flow_from_directory method\n",
        "  train_generator = train_datagen.flow_from_directory(directory=TRAINING_DIR,\n",
        "                                                      batch_size=BATCH_SIZE,\n",
        "                                                      class_mode='categorical',\n",
        "                                                      target_size=(IMAGE_SIZE, IMAGE_SIZE),\n",
        "                                                      shuffle = True)\n",
        "\n",
        "  # Instantiate the ImageDataGenerator class\n",
        "  validation_datagen = ImageDataGenerator(rescale=1.0/255.) #set the rescale argument\n",
        "\n",
        "  # Pass in the appropriate arguments to the flow_from_directory method\n",
        "  validation_generator = validation_datagen.flow_from_directory(directory=VALIDATION_DIR,\n",
        "                                                                batch_size=BATCH_SIZE,\n",
        "                                                                class_mode='categorical',\n",
        "                                                                target_size=(IMAGE_SIZE, IMAGE_SIZE),\n",
        "                                                                shuffle = True)\n",
        "\n",
        "  # Instantiate the ImageDataGenerator class  , For test datagenerator, we only normalize the data.\n",
        "  test_datagen = ImageDataGenerator(rescale=1./255.)\n",
        "\n",
        "  # Pass in the appropriate arguments to the flow_from_directory method\n",
        "  test_generator = test_datagen.flow_from_directory(directory=TEST_DIR,\n",
        "                                                    batch_size=BATCH_SIZE,\n",
        "                                                    class_mode='categorical',\n",
        "                                                    target_size=(IMAGE_SIZE, IMAGE_SIZE))\n",
        "\n",
        "  return train_generator, validation_generator, test_generator"
      ]
    },
    {
      "cell_type": "code",
      "execution_count": null,
      "metadata": {
        "id": "t9KkG-dF0G5c",
        "colab": {
          "base_uri": "https://localhost:8080/"
        },
        "outputId": "74be1a54-f937-423b-f872-e4d2e72567c5"
      },
      "outputs": [
        {
          "output_type": "stream",
          "name": "stdout",
          "text": [
            "Found 494 images belonging to 9 classes.\n",
            "Found 127 images belonging to 9 classes.\n",
            "Found 185 images belonging to 9 classes.\n"
          ]
        }
      ],
      "source": [
        "train_generator, validation_generator, test_generator = train_val_generators(TRAINING_DIR, VALIDATION_DIR,ORIGINAL_TEST_DIR)"
      ]
    },
    {
      "cell_type": "code",
      "execution_count": null,
      "metadata": {
        "id": "9jOf3HK3SaTC"
      },
      "outputs": [],
      "source": [
        "# Create X_train and y_train from the train_generator\n",
        "X_train, y_train = next(train_generator)\n",
        "\n",
        "# Create X_val and y_val from the val_generator\n",
        "X_val, y_val = next(validation_generator)"
      ]
    },
    {
      "cell_type": "code",
      "execution_count": null,
      "metadata": {
        "id": "P3GT89txVRSo"
      },
      "outputs": [],
      "source": [
        "def create_model(backbone='InceptionV3', learning_rate=0.0001, batch_size=32, dropout_rate=0.2):\n",
        "    # Load the specified backbone architecture\n",
        "    if backbone == 'InceptionV3':\n",
        "        backbone_model = InceptionV3(weights='imagenet', include_top=False, input_shape=(IMAGE_SIZE, IMAGE_SIZE, 3))\n",
        "    else:\n",
        "        raise ValueError(\"Invalid backbone architecture specified.\")\n",
        "\n",
        "    # Freeze the backbone layers\n",
        "    backbone_model.trainable = False\n",
        "\n",
        "    # Build the classification head on top of the backbone\n",
        "    model = models.Sequential()\n",
        "    model.add(backbone_model)\n",
        "    model.add(layers.GlobalAveragePooling2D())\n",
        "    model.add(layers.Dense(128, activation='relu'))\n",
        "    model.add(layers.Dropout(dropout_rate))\n",
        "    model.add(layers.Dense(NUM_CLASSES, activation='softmax'))\n",
        "\n",
        "    # Compile the model\n",
        "    optimizer = Adam(lr=learning_rate)\n",
        "    model.compile(optimizer=optimizer, loss='categorical_crossentropy', metrics=['accuracy'])\n",
        "\n",
        "    return model"
      ]
    },
    {
      "cell_type": "code",
      "execution_count": null,
      "metadata": {
        "id": "L8cenhW_25GH",
        "colab": {
          "base_uri": "https://localhost:8080/"
        },
        "outputId": "876c5f83-ef61-4a05-dfd8-576a14565e72"
      },
      "outputs": [
        {
          "output_type": "stream",
          "name": "stderr",
          "text": [
            "<ipython-input-27-21447fe075c3>:1: DeprecationWarning: KerasClassifier is deprecated, use Sci-Keras (https://github.com/adriangb/scikeras) instead. See https://www.adriangb.com/scikeras/stable/migration.html for help migrating.\n",
            "  model = KerasClassifier(build_fn=create_model, epochs=10, verbose=0)\n"
          ]
        }
      ],
      "source": [
        "model = KerasClassifier(build_fn=create_model, epochs=10, verbose=0)"
      ]
    },
    {
      "cell_type": "code",
      "execution_count": null,
      "metadata": {
        "id": "6fZ7kgmB3Q6u"
      },
      "outputs": [],
      "source": [
        "param_dist = {\n",
        "    'learning_rate': [0.0001, 0.001, 0.01],\n",
        "    'batch_size': [32, 64, 128],\n",
        "    'dropout_rate': [0.2, 0.3, 0.4]\n",
        "}"
      ]
    },
    {
      "cell_type": "code",
      "execution_count": null,
      "metadata": {
        "id": "2s1eLjaTVpLt",
        "colab": {
          "base_uri": "https://localhost:8080/"
        },
        "outputId": "bc7102a8-8135-4ae1-f70b-db08c0ff52c9"
      },
      "outputs": [
        {
          "output_type": "stream",
          "name": "stdout",
          "text": [
            "Fitting 3 folds for each of 10 candidates, totalling 30 fits\n"
          ]
        },
        {
          "output_type": "stream",
          "name": "stderr",
          "text": [
            "WARNING:absl:`lr` is deprecated in Keras optimizer, please use `learning_rate` or use the legacy optimizer, e.g.,tf.keras.optimizers.legacy.Adam.\n"
          ]
        },
        {
          "output_type": "stream",
          "name": "stdout",
          "text": [
            "[CV] END batch_size=128, dropout_rate=0.3, learning_rate=0.0001; total time=  33.6s\n"
          ]
        },
        {
          "output_type": "stream",
          "name": "stderr",
          "text": [
            "WARNING:absl:`lr` is deprecated in Keras optimizer, please use `learning_rate` or use the legacy optimizer, e.g.,tf.keras.optimizers.legacy.Adam.\n"
          ]
        },
        {
          "output_type": "stream",
          "name": "stdout",
          "text": [
            "[CV] END batch_size=128, dropout_rate=0.3, learning_rate=0.0001; total time=  31.9s\n"
          ]
        },
        {
          "output_type": "stream",
          "name": "stderr",
          "text": [
            "WARNING:absl:`lr` is deprecated in Keras optimizer, please use `learning_rate` or use the legacy optimizer, e.g.,tf.keras.optimizers.legacy.Adam.\n"
          ]
        },
        {
          "output_type": "stream",
          "name": "stdout",
          "text": [
            "[CV] END batch_size=128, dropout_rate=0.3, learning_rate=0.0001; total time=  32.8s\n"
          ]
        },
        {
          "output_type": "stream",
          "name": "stderr",
          "text": [
            "WARNING:absl:`lr` is deprecated in Keras optimizer, please use `learning_rate` or use the legacy optimizer, e.g.,tf.keras.optimizers.legacy.Adam.\n"
          ]
        },
        {
          "output_type": "stream",
          "name": "stdout",
          "text": [
            "[CV] END batch_size=128, dropout_rate=0.4, learning_rate=0.001; total time=  32.2s\n"
          ]
        },
        {
          "output_type": "stream",
          "name": "stderr",
          "text": [
            "WARNING:absl:`lr` is deprecated in Keras optimizer, please use `learning_rate` or use the legacy optimizer, e.g.,tf.keras.optimizers.legacy.Adam.\n"
          ]
        },
        {
          "output_type": "stream",
          "name": "stdout",
          "text": [
            "[CV] END batch_size=128, dropout_rate=0.4, learning_rate=0.001; total time=  23.0s\n"
          ]
        },
        {
          "output_type": "stream",
          "name": "stderr",
          "text": [
            "WARNING:absl:`lr` is deprecated in Keras optimizer, please use `learning_rate` or use the legacy optimizer, e.g.,tf.keras.optimizers.legacy.Adam.\n"
          ]
        },
        {
          "output_type": "stream",
          "name": "stdout",
          "text": [
            "[CV] END batch_size=128, dropout_rate=0.4, learning_rate=0.001; total time=  23.9s\n"
          ]
        },
        {
          "output_type": "stream",
          "name": "stderr",
          "text": [
            "WARNING:absl:`lr` is deprecated in Keras optimizer, please use `learning_rate` or use the legacy optimizer, e.g.,tf.keras.optimizers.legacy.Adam.\n"
          ]
        },
        {
          "output_type": "stream",
          "name": "stdout",
          "text": [
            "[CV] END batch_size=64, dropout_rate=0.4, learning_rate=0.0001; total time=  31.4s\n"
          ]
        },
        {
          "output_type": "stream",
          "name": "stderr",
          "text": [
            "WARNING:absl:`lr` is deprecated in Keras optimizer, please use `learning_rate` or use the legacy optimizer, e.g.,tf.keras.optimizers.legacy.Adam.\n"
          ]
        },
        {
          "output_type": "stream",
          "name": "stdout",
          "text": [
            "[CV] END batch_size=64, dropout_rate=0.4, learning_rate=0.0001; total time=  24.5s\n"
          ]
        },
        {
          "output_type": "stream",
          "name": "stderr",
          "text": [
            "WARNING:absl:`lr` is deprecated in Keras optimizer, please use `learning_rate` or use the legacy optimizer, e.g.,tf.keras.optimizers.legacy.Adam.\n"
          ]
        },
        {
          "output_type": "stream",
          "name": "stdout",
          "text": [
            "[CV] END batch_size=64, dropout_rate=0.4, learning_rate=0.0001; total time=  32.5s\n"
          ]
        },
        {
          "output_type": "stream",
          "name": "stderr",
          "text": [
            "WARNING:absl:`lr` is deprecated in Keras optimizer, please use `learning_rate` or use the legacy optimizer, e.g.,tf.keras.optimizers.legacy.Adam.\n"
          ]
        },
        {
          "output_type": "stream",
          "name": "stdout",
          "text": [
            "[CV] END batch_size=32, dropout_rate=0.2, learning_rate=0.0001; total time=  33.2s\n"
          ]
        },
        {
          "output_type": "stream",
          "name": "stderr",
          "text": [
            "WARNING:absl:`lr` is deprecated in Keras optimizer, please use `learning_rate` or use the legacy optimizer, e.g.,tf.keras.optimizers.legacy.Adam.\n"
          ]
        },
        {
          "output_type": "stream",
          "name": "stdout",
          "text": [
            "[CV] END batch_size=32, dropout_rate=0.2, learning_rate=0.0001; total time=  22.4s\n"
          ]
        },
        {
          "output_type": "stream",
          "name": "stderr",
          "text": [
            "WARNING:absl:`lr` is deprecated in Keras optimizer, please use `learning_rate` or use the legacy optimizer, e.g.,tf.keras.optimizers.legacy.Adam.\n"
          ]
        },
        {
          "output_type": "stream",
          "name": "stdout",
          "text": [
            "[CV] END batch_size=32, dropout_rate=0.2, learning_rate=0.0001; total time=  32.2s\n"
          ]
        },
        {
          "output_type": "stream",
          "name": "stderr",
          "text": [
            "WARNING:absl:`lr` is deprecated in Keras optimizer, please use `learning_rate` or use the legacy optimizer, e.g.,tf.keras.optimizers.legacy.Adam.\n"
          ]
        },
        {
          "output_type": "stream",
          "name": "stdout",
          "text": [
            "[CV] END batch_size=128, dropout_rate=0.3, learning_rate=0.001; total time=  24.0s\n"
          ]
        },
        {
          "output_type": "stream",
          "name": "stderr",
          "text": [
            "WARNING:absl:`lr` is deprecated in Keras optimizer, please use `learning_rate` or use the legacy optimizer, e.g.,tf.keras.optimizers.legacy.Adam.\n"
          ]
        },
        {
          "output_type": "stream",
          "name": "stdout",
          "text": [
            "[CV] END batch_size=128, dropout_rate=0.3, learning_rate=0.001; total time=  31.2s\n"
          ]
        },
        {
          "output_type": "stream",
          "name": "stderr",
          "text": [
            "WARNING:absl:`lr` is deprecated in Keras optimizer, please use `learning_rate` or use the legacy optimizer, e.g.,tf.keras.optimizers.legacy.Adam.\n"
          ]
        },
        {
          "output_type": "stream",
          "name": "stdout",
          "text": [
            "[CV] END batch_size=128, dropout_rate=0.3, learning_rate=0.001; total time=  23.5s\n"
          ]
        },
        {
          "output_type": "stream",
          "name": "stderr",
          "text": [
            "WARNING:absl:`lr` is deprecated in Keras optimizer, please use `learning_rate` or use the legacy optimizer, e.g.,tf.keras.optimizers.legacy.Adam.\n"
          ]
        },
        {
          "output_type": "stream",
          "name": "stdout",
          "text": [
            "[CV] END batch_size=32, dropout_rate=0.4, learning_rate=0.01; total time=  24.1s\n"
          ]
        },
        {
          "output_type": "stream",
          "name": "stderr",
          "text": [
            "WARNING:absl:`lr` is deprecated in Keras optimizer, please use `learning_rate` or use the legacy optimizer, e.g.,tf.keras.optimizers.legacy.Adam.\n"
          ]
        },
        {
          "output_type": "stream",
          "name": "stdout",
          "text": [
            "[CV] END batch_size=32, dropout_rate=0.4, learning_rate=0.01; total time=  32.4s\n"
          ]
        },
        {
          "output_type": "stream",
          "name": "stderr",
          "text": [
            "WARNING:absl:`lr` is deprecated in Keras optimizer, please use `learning_rate` or use the legacy optimizer, e.g.,tf.keras.optimizers.legacy.Adam.\n"
          ]
        },
        {
          "output_type": "stream",
          "name": "stdout",
          "text": [
            "[CV] END batch_size=32, dropout_rate=0.4, learning_rate=0.01; total time=  22.9s\n"
          ]
        },
        {
          "output_type": "stream",
          "name": "stderr",
          "text": [
            "WARNING:absl:`lr` is deprecated in Keras optimizer, please use `learning_rate` or use the legacy optimizer, e.g.,tf.keras.optimizers.legacy.Adam.\n"
          ]
        },
        {
          "output_type": "stream",
          "name": "stdout",
          "text": [
            "[CV] END batch_size=128, dropout_rate=0.3, learning_rate=0.01; total time=  24.4s\n"
          ]
        },
        {
          "output_type": "stream",
          "name": "stderr",
          "text": [
            "WARNING:absl:`lr` is deprecated in Keras optimizer, please use `learning_rate` or use the legacy optimizer, e.g.,tf.keras.optimizers.legacy.Adam.\n"
          ]
        },
        {
          "output_type": "stream",
          "name": "stdout",
          "text": [
            "[CV] END batch_size=128, dropout_rate=0.3, learning_rate=0.01; total time=  22.4s\n"
          ]
        },
        {
          "output_type": "stream",
          "name": "stderr",
          "text": [
            "WARNING:absl:`lr` is deprecated in Keras optimizer, please use `learning_rate` or use the legacy optimizer, e.g.,tf.keras.optimizers.legacy.Adam.\n"
          ]
        },
        {
          "output_type": "stream",
          "name": "stdout",
          "text": [
            "[CV] END batch_size=128, dropout_rate=0.3, learning_rate=0.01; total time=  33.4s\n"
          ]
        },
        {
          "output_type": "stream",
          "name": "stderr",
          "text": [
            "WARNING:absl:`lr` is deprecated in Keras optimizer, please use `learning_rate` or use the legacy optimizer, e.g.,tf.keras.optimizers.legacy.Adam.\n"
          ]
        },
        {
          "output_type": "stream",
          "name": "stdout",
          "text": [
            "[CV] END batch_size=32, dropout_rate=0.3, learning_rate=0.0001; total time=  23.3s\n"
          ]
        },
        {
          "output_type": "stream",
          "name": "stderr",
          "text": [
            "WARNING:absl:`lr` is deprecated in Keras optimizer, please use `learning_rate` or use the legacy optimizer, e.g.,tf.keras.optimizers.legacy.Adam.\n"
          ]
        },
        {
          "output_type": "stream",
          "name": "stdout",
          "text": [
            "[CV] END batch_size=32, dropout_rate=0.3, learning_rate=0.0001; total time=  32.1s\n"
          ]
        },
        {
          "output_type": "stream",
          "name": "stderr",
          "text": [
            "WARNING:absl:`lr` is deprecated in Keras optimizer, please use `learning_rate` or use the legacy optimizer, e.g.,tf.keras.optimizers.legacy.Adam.\n"
          ]
        },
        {
          "output_type": "stream",
          "name": "stdout",
          "text": [
            "[CV] END batch_size=32, dropout_rate=0.3, learning_rate=0.0001; total time=  34.9s\n"
          ]
        },
        {
          "output_type": "stream",
          "name": "stderr",
          "text": [
            "WARNING:absl:`lr` is deprecated in Keras optimizer, please use `learning_rate` or use the legacy optimizer, e.g.,tf.keras.optimizers.legacy.Adam.\n"
          ]
        },
        {
          "output_type": "stream",
          "name": "stdout",
          "text": [
            "[CV] END batch_size=128, dropout_rate=0.4, learning_rate=0.0001; total time=  31.6s\n"
          ]
        },
        {
          "output_type": "stream",
          "name": "stderr",
          "text": [
            "WARNING:absl:`lr` is deprecated in Keras optimizer, please use `learning_rate` or use the legacy optimizer, e.g.,tf.keras.optimizers.legacy.Adam.\n"
          ]
        },
        {
          "output_type": "stream",
          "name": "stdout",
          "text": [
            "[CV] END batch_size=128, dropout_rate=0.4, learning_rate=0.0001; total time=  35.5s\n"
          ]
        },
        {
          "output_type": "stream",
          "name": "stderr",
          "text": [
            "WARNING:absl:`lr` is deprecated in Keras optimizer, please use `learning_rate` or use the legacy optimizer, e.g.,tf.keras.optimizers.legacy.Adam.\n"
          ]
        },
        {
          "output_type": "stream",
          "name": "stdout",
          "text": [
            "[CV] END batch_size=128, dropout_rate=0.4, learning_rate=0.0001; total time=  22.1s\n"
          ]
        },
        {
          "output_type": "stream",
          "name": "stderr",
          "text": [
            "WARNING:absl:`lr` is deprecated in Keras optimizer, please use `learning_rate` or use the legacy optimizer, e.g.,tf.keras.optimizers.legacy.Adam.\n"
          ]
        },
        {
          "output_type": "stream",
          "name": "stdout",
          "text": [
            "[CV] END batch_size=64, dropout_rate=0.2, learning_rate=0.01; total time=  23.5s\n"
          ]
        },
        {
          "output_type": "stream",
          "name": "stderr",
          "text": [
            "WARNING:absl:`lr` is deprecated in Keras optimizer, please use `learning_rate` or use the legacy optimizer, e.g.,tf.keras.optimizers.legacy.Adam.\n"
          ]
        },
        {
          "output_type": "stream",
          "name": "stdout",
          "text": [
            "[CV] END batch_size=64, dropout_rate=0.2, learning_rate=0.01; total time=  23.8s\n"
          ]
        },
        {
          "output_type": "stream",
          "name": "stderr",
          "text": [
            "WARNING:absl:`lr` is deprecated in Keras optimizer, please use `learning_rate` or use the legacy optimizer, e.g.,tf.keras.optimizers.legacy.Adam.\n"
          ]
        },
        {
          "output_type": "stream",
          "name": "stdout",
          "text": [
            "[CV] END batch_size=64, dropout_rate=0.2, learning_rate=0.01; total time=  32.0s\n"
          ]
        },
        {
          "output_type": "stream",
          "name": "stderr",
          "text": [
            "WARNING:absl:`lr` is deprecated in Keras optimizer, please use `learning_rate` or use the legacy optimizer, e.g.,tf.keras.optimizers.legacy.Adam.\n"
          ]
        }
      ],
      "source": [
        "# Perform random search with cross-validation\n",
        "random_search = RandomizedSearchCV(estimator=model, param_distributions=param_dist, cv=3, verbose=2, n_iter=10)\n",
        "\n",
        "# Create X_train and y_train from the train_generator\n",
        "X_train, y_train = next(train_generator)\n",
        "\n",
        "# Create X_val and y_val from the val_generator\n",
        "X_val, y_val = next(validation_generator)\n",
        "\n",
        "# Fit the model\n",
        "random_search_result = random_search.fit(X_train, y_train)"
      ]
    },
    {
      "cell_type": "code",
      "execution_count": null,
      "metadata": {
        "id": "zqNUlq8GVrN0",
        "colab": {
          "base_uri": "https://localhost:8080/"
        },
        "outputId": "243ad3aa-7674-4aac-9b32-7a324cde3c16"
      },
      "outputs": [
        {
          "output_type": "stream",
          "name": "stdout",
          "text": [
            "Best: 0.533333 using {'learning_rate': 0.001, 'dropout_rate': 0.4, 'batch_size': 128}\n"
          ]
        }
      ],
      "source": [
        "print(\"Best: %f using %s\" % (random_search_result.best_score_, random_search_result.best_params_))"
      ]
    },
    {
      "cell_type": "code",
      "execution_count": null,
      "metadata": {
        "id": "C5ZuLfH9VrYz",
        "colab": {
          "base_uri": "https://localhost:8080/"
        },
        "outputId": "f85c605b-656b-4f3e-d579-c95340030d15"
      },
      "outputs": [
        {
          "output_type": "stream",
          "name": "stderr",
          "text": [
            "WARNING:absl:`lr` is deprecated in Keras optimizer, please use `learning_rate` or use the legacy optimizer, e.g.,tf.keras.optimizers.legacy.Adam.\n"
          ]
        },
        {
          "output_type": "stream",
          "name": "stdout",
          "text": [
            "Epoch 1/30\n",
            "16/16 [==============================] - 45s 3s/step - loss: 2.3652 - accuracy: 0.3623\n",
            "Epoch 2/30\n",
            "16/16 [==============================] - 29s 2s/step - loss: 1.1219 - accuracy: 0.6235\n",
            "Epoch 3/30\n",
            "16/16 [==============================] - 29s 2s/step - loss: 0.7784 - accuracy: 0.7368\n",
            "Epoch 4/30\n",
            "16/16 [==============================] - 36s 2s/step - loss: 0.5881 - accuracy: 0.7915\n",
            "Epoch 5/30\n",
            "16/16 [==============================] - 31s 2s/step - loss: 0.4742 - accuracy: 0.8462\n",
            "Epoch 6/30\n",
            "16/16 [==============================] - 31s 2s/step - loss: 0.3112 - accuracy: 0.9150\n",
            "Epoch 7/30\n",
            "16/16 [==============================] - 29s 2s/step - loss: 0.2755 - accuracy: 0.9271\n",
            "Epoch 8/30\n",
            "16/16 [==============================] - 29s 2s/step - loss: 0.2197 - accuracy: 0.9413\n",
            "Epoch 9/30\n",
            "16/16 [==============================] - 29s 2s/step - loss: 0.2051 - accuracy: 0.9332\n",
            "Epoch 10/30\n",
            "16/16 [==============================] - 31s 2s/step - loss: 0.1567 - accuracy: 0.9453\n",
            "Epoch 11/30\n",
            "16/16 [==============================] - 31s 2s/step - loss: 0.1652 - accuracy: 0.9534\n",
            "Epoch 12/30\n",
            "16/16 [==============================] - 29s 2s/step - loss: 0.1114 - accuracy: 0.9757\n",
            "Epoch 13/30\n",
            "16/16 [==============================] - 29s 2s/step - loss: 0.0813 - accuracy: 0.9818\n",
            "Epoch 14/30\n",
            "16/16 [==============================] - 30s 2s/step - loss: 0.0947 - accuracy: 0.9757\n",
            "Epoch 15/30\n",
            "16/16 [==============================] - 32s 2s/step - loss: 0.0932 - accuracy: 0.9818\n",
            "Epoch 16/30\n",
            "16/16 [==============================] - 30s 2s/step - loss: 0.0832 - accuracy: 0.9777\n",
            "Epoch 17/30\n",
            "16/16 [==============================] - 29s 2s/step - loss: 0.0792 - accuracy: 0.9798\n",
            "Epoch 18/30\n",
            "16/16 [==============================] - 29s 2s/step - loss: 0.0642 - accuracy: 0.9899\n",
            "Epoch 19/30\n",
            "16/16 [==============================] - 29s 2s/step - loss: 0.0704 - accuracy: 0.9798\n",
            "Epoch 20/30\n",
            "16/16 [==============================] - 29s 2s/step - loss: 0.0678 - accuracy: 0.9818\n",
            "Epoch 21/30\n",
            "16/16 [==============================] - 31s 2s/step - loss: 0.0721 - accuracy: 0.9798\n",
            "Epoch 22/30\n",
            "16/16 [==============================] - 29s 2s/step - loss: 0.0501 - accuracy: 0.9838\n",
            "Epoch 23/30\n",
            "16/16 [==============================] - 32s 2s/step - loss: 0.0383 - accuracy: 0.9939\n",
            "Epoch 24/30\n",
            "16/16 [==============================] - 29s 2s/step - loss: 0.0328 - accuracy: 0.9960\n",
            "Epoch 25/30\n",
            "16/16 [==============================] - 30s 2s/step - loss: 0.0404 - accuracy: 0.9879\n",
            "Epoch 26/30\n",
            "16/16 [==============================] - 29s 2s/step - loss: 0.0282 - accuracy: 0.9919\n",
            "Epoch 27/30\n",
            "16/16 [==============================] - 29s 2s/step - loss: 0.0405 - accuracy: 0.9899\n",
            "Epoch 28/30\n",
            "16/16 [==============================] - 30s 2s/step - loss: 0.0358 - accuracy: 0.9939\n",
            "Epoch 29/30\n",
            "16/16 [==============================] - 29s 2s/step - loss: 0.0298 - accuracy: 0.9919\n",
            "Epoch 30/30\n",
            "16/16 [==============================] - 31s 2s/step - loss: 0.0391 - accuracy: 0.9858\n",
            "6/6 [==============================] - 71s 13s/step - loss: 0.9656 - accuracy: 0.7730\n",
            "Test Loss: 0.9656\n",
            "Test Accuracy: 0.7730\n"
          ]
        }
      ],
      "source": [
        "best_model = create_model(learning_rate=0.001, batch_size=128, dropout_rate=0.3)\n",
        "best_model.fit(train_generator, epochs=30)\n",
        "test_loss, test_accuracy = best_model.evaluate(test_generator)\n",
        "print(f'Test Loss: {test_loss:.4f}')\n",
        "print(f'Test Accuracy: {test_accuracy:.4f}')"
      ]
    },
    {
      "cell_type": "code",
      "execution_count": null,
      "metadata": {
        "id": "fi9fmWtBVwm-",
        "colab": {
          "base_uri": "https://localhost:8080/"
        },
        "outputId": "d5cf2b10-e9a4-4f44-b3c3-9eb0f6fcb2a7"
      },
      "outputs": [
        {
          "output_type": "stream",
          "name": "stdout",
          "text": [
            "6/6 [==============================] - 13s 2s/step\n"
          ]
        }
      ],
      "source": [
        "predicted_labels = best_model.predict(test_generator)\n",
        "predicted_labels = np.argmax(predicted_labels, axis=1)\n",
        "\n",
        "true_labels = test_generator.classes\n",
        "\n",
        "conf_matrix = confusion_matrix(true_labels, predicted_labels)"
      ]
    },
    {
      "cell_type": "code",
      "execution_count": null,
      "metadata": {
        "id": "n51fwdDmVwxI",
        "colab": {
          "base_uri": "https://localhost:8080/",
          "height": 754
        },
        "outputId": "961254ff-bf07-4672-c3da-20a3ae7be319"
      },
      "outputs": [
        {
          "output_type": "display_data",
          "data": {
            "text/plain": [
              "<Figure size 1000x800 with 1 Axes>"
            ],
            "image/png": "[encoded data removed]"
          },
          "metadata": {}
        }
      ],
      "source": [
        "conf_matrix = confusion_matrix(true_labels, predicted_labels)\n",
        "\n",
        "labels = ['Fish', 'Goldfish', 'Seal', 'Jellyfish', 'Lobster', 'Oyster', 'Turtle', 'Squid', 'Starfish']\n",
        "\n",
        "plt.figure(figsize=(10, 8))\n",
        "sns.heatmap(conf_matrix, annot=True, fmt=\"d\", cmap=\"Blues\", cbar=False, xticklabels=labels, yticklabels=labels)\n",
        "plt.xlabel('Predicted Labels')\n",
        "plt.ylabel('True Labels')\n",
        "plt.title('Confusion Matrix')\n",
        "plt.xticks(rotation=45)\n",
        "plt.yticks(rotation=45)\n",
        "plt.show()"
      ]
    },
    {
      "cell_type": "code",
      "execution_count": null,
      "metadata": {
        "id": "cC07C4jYVz5j",
        "colab": {
          "base_uri": "https://localhost:8080/",
          "height": 1000
        },
        "outputId": "d3f3a6f0-90ff-4c16-dfee-91a555c69449"
      },
      "outputs": [
        {
          "output_type": "stream",
          "name": "stdout",
          "text": [
            "Epoch 1/30\n",
            "16/16 [==============================] - 38s 2s/step - loss: 0.0296 - accuracy: 0.9939 - val_loss: 1.3846 - val_accuracy: 0.6299\n",
            "Epoch 2/30\n",
            "16/16 [==============================] - 37s 2s/step - loss: 0.0253 - accuracy: 0.9939 - val_loss: 1.4015 - val_accuracy: 0.6142\n",
            "Epoch 3/30\n",
            "16/16 [==============================] - 42s 3s/step - loss: 0.0276 - accuracy: 0.9899 - val_loss: 1.3638 - val_accuracy: 0.6535\n",
            "Epoch 4/30\n",
            "16/16 [==============================] - 40s 2s/step - loss: 0.0279 - accuracy: 0.9939 - val_loss: 1.3838 - val_accuracy: 0.6220\n",
            "Epoch 5/30\n",
            "16/16 [==============================] - 39s 2s/step - loss: 0.0294 - accuracy: 0.9939 - val_loss: 1.5368 - val_accuracy: 0.6378\n",
            "Epoch 6/30\n",
            "16/16 [==============================] - 39s 2s/step - loss: 0.0305 - accuracy: 0.9858 - val_loss: 1.3384 - val_accuracy: 0.6220\n",
            "Epoch 7/30\n",
            "16/16 [==============================] - 39s 2s/step - loss: 0.0334 - accuracy: 0.9899 - val_loss: 1.3759 - val_accuracy: 0.6457\n",
            "Epoch 8/30\n",
            "16/16 [==============================] - 40s 2s/step - loss: 0.0448 - accuracy: 0.9879 - val_loss: 1.4988 - val_accuracy: 0.6535\n",
            "Epoch 9/30\n",
            "16/16 [==============================] - 42s 3s/step - loss: 0.0295 - accuracy: 0.9960 - val_loss: 1.3369 - val_accuracy: 0.6220\n",
            "Epoch 10/30\n",
            "16/16 [==============================] - 40s 3s/step - loss: 0.0439 - accuracy: 0.9919 - val_loss: 1.4773 - val_accuracy: 0.6063\n",
            "Epoch 11/30\n",
            "16/16 [==============================] - 51s 3s/step - loss: 0.0236 - accuracy: 0.9919 - val_loss: 1.4435 - val_accuracy: 0.6457\n",
            "Epoch 12/30\n",
            "16/16 [==============================] - 41s 3s/step - loss: 0.0224 - accuracy: 0.9939 - val_loss: 1.4991 - val_accuracy: 0.6614\n",
            "Epoch 13/30\n",
            "16/16 [==============================] - 40s 3s/step - loss: 0.0498 - accuracy: 0.9858 - val_loss: 1.4953 - val_accuracy: 0.6299\n",
            "Epoch 14/30\n",
            "16/16 [==============================] - 44s 3s/step - loss: 0.0299 - accuracy: 0.9939 - val_loss: 1.3794 - val_accuracy: 0.6693\n",
            "Epoch 15/30\n",
            "16/16 [==============================] - 40s 3s/step - loss: 0.0311 - accuracy: 0.9939 - val_loss: 1.3868 - val_accuracy: 0.6457\n",
            "Epoch 16/30\n",
            "16/16 [==============================] - 40s 3s/step - loss: 0.0207 - accuracy: 0.9960 - val_loss: 1.4406 - val_accuracy: 0.6378\n",
            "Epoch 17/30\n",
            "16/16 [==============================] - 43s 3s/step - loss: 0.0357 - accuracy: 0.9879 - val_loss: 1.5057 - val_accuracy: 0.6378\n",
            "Epoch 18/30\n",
            "16/16 [==============================] - 40s 3s/step - loss: 0.0191 - accuracy: 0.9980 - val_loss: 1.4863 - val_accuracy: 0.6220\n",
            "Epoch 19/30\n",
            "16/16 [==============================] - 40s 3s/step - loss: 0.0248 - accuracy: 0.9919 - val_loss: 1.5422 - val_accuracy: 0.6378\n",
            "Epoch 20/30\n",
            "16/16 [==============================] - 42s 3s/step - loss: 0.0187 - accuracy: 0.9939 - val_loss: 1.6523 - val_accuracy: 0.6220\n",
            "Epoch 21/30\n",
            "16/16 [==============================] - 40s 3s/step - loss: 0.0192 - accuracy: 0.9980 - val_loss: 1.5446 - val_accuracy: 0.6063\n",
            "Epoch 22/30\n",
            "16/16 [==============================] - 40s 3s/step - loss: 0.0264 - accuracy: 0.9939 - val_loss: 1.5066 - val_accuracy: 0.6142\n",
            "Epoch 23/30\n",
            "16/16 [==============================] - 42s 3s/step - loss: 0.0185 - accuracy: 0.9939 - val_loss: 1.5066 - val_accuracy: 0.6457\n",
            "Epoch 24/30\n",
            "16/16 [==============================] - 40s 3s/step - loss: 0.0141 - accuracy: 0.9960 - val_loss: 1.6524 - val_accuracy: 0.6378\n",
            "Epoch 25/30\n",
            "16/16 [==============================] - 41s 3s/step - loss: 0.0183 - accuracy: 0.9939 - val_loss: 1.5116 - val_accuracy: 0.6535\n",
            "Epoch 26/30\n",
            "16/16 [==============================] - 40s 3s/step - loss: 0.0155 - accuracy: 0.9939 - val_loss: 1.5800 - val_accuracy: 0.6535\n",
            "Epoch 27/30\n",
            "16/16 [==============================] - 39s 2s/step - loss: 0.0241 - accuracy: 0.9919 - val_loss: 1.6701 - val_accuracy: 0.6063\n",
            "Epoch 28/30\n",
            "16/16 [==============================] - 43s 3s/step - loss: 0.0158 - accuracy: 0.9960 - val_loss: 1.5784 - val_accuracy: 0.6220\n",
            "Epoch 29/30\n",
            "16/16 [==============================] - 40s 3s/step - loss: 0.0239 - accuracy: 0.9919 - val_loss: 1.5455 - val_accuracy: 0.6457\n",
            "Epoch 30/30\n",
            "16/16 [==============================] - 40s 3s/step - loss: 0.0261 - accuracy: 0.9960 - val_loss: 1.5154 - val_accuracy: 0.6220\n"
          ]
        },
        {
          "output_type": "display_data",
          "data": {
            "text/plain": [
              "<Figure size 1200x500 with 2 Axes>"
            ],
            "image/png": "[encoded data removed]"
          },
          "metadata": {}
        }
      ],
      "source": [
        "class MetricsCallback(Callback):\n",
        "    def __init__(self):\n",
        "        super().__init__()\n",
        "        self.train_loss = []\n",
        "        self.val_loss = []\n",
        "        self.train_accuracy = []\n",
        "        self.val_accuracy = []\n",
        "\n",
        "    def on_epoch_end(self, epoch, logs=None):\n",
        "        self.train_loss.append(logs.get('loss'))\n",
        "        self.val_loss.append(logs.get('val_loss'))\n",
        "        self.train_accuracy.append(logs.get('accuracy'))\n",
        "        self.val_accuracy.append(logs.get('val_accuracy'))\n",
        "\n",
        "metrics_callback = MetricsCallback()\n",
        "history = best_model.fit(train_generator, epochs=30, validation_data=validation_generator, callbacks=[metrics_callback])\n",
        "\n",
        "epochs = range(1, len(metrics_callback.train_loss) + 1)\n",
        "\n",
        "plt.figure(figsize=(12, 5))\n",
        "\n",
        "plt.subplot(1, 2, 1)\n",
        "plt.plot(epochs, metrics_callback.train_loss, label='Training Loss')\n",
        "plt.plot(epochs, metrics_callback.val_loss, label='Validation Loss')\n",
        "plt.title('Training and Validation Loss')\n",
        "plt.xlabel('Epochs')\n",
        "plt.ylabel('Loss')\n",
        "plt.legend()\n",
        "\n",
        "plt.subplot(1, 2, 2)\n",
        "plt.plot(epochs, metrics_callback.train_accuracy, label='Training Accuracy')\n",
        "plt.plot(epochs, metrics_callback.val_accuracy, label='Validation Accuracy')\n",
        "plt.title('Training and Validation Accuracy')\n",
        "plt.xlabel('Epochs')\n",
        "plt.ylabel('Accuracy')\n",
        "plt.legend()\n",
        "\n",
        "plt.tight_layout()\n",
        "plt.show()"
      ]
    }
  ],
  "metadata": {
    "accelerator": "GPU",
    "colab": {
      "gpuType": "T4",
      "provenance": []
    },
    "kernelspec": {
      "display_name": "Python 3",
      "name": "python3"
    },
    "language_info": {
      "name": "python"
    }
  },
  "nbformat": 4,
  "nbformat_minor": 0
}