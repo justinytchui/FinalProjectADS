{
  "cells": [
    {
      "cell_type": "code",
      "execution_count": null,
      "metadata": {
        "id": "kAF_6s1flB49"
      },
      "outputs": [],
      "source": [
        "# Common imports\n",
        "import os\n",
        "import numpy as np\n",
        "import zipfile\n",
        "import random\n",
        "import shutil\n",
        "import tensorflow as tf\n",
        "from tensorflow import keras\n",
        "from typing import Tuple, List\n",
        "from shutil import copyfile\n",
        "\n",
        "# Data Imports\n",
        "import pandas as pd\n",
        "from tqdm import tqdm\n",
        "from glob import glob\n",
        "from tensorflow import data as tfd\n",
        "from tensorflow import image as tfi\n",
        "\n",
        "# Data Visualization\n",
        "import plotly.express as px\n",
        "import seaborn as sns\n",
        "import matplotlib.pyplot as plt\n",
        "from IPython.display import clear_output as cls\n",
        "import PIL\n",
        "\n",
        "# Model Architecture\n",
        "from tensorflow.keras.preprocessing.image import ImageDataGenerator\n",
        "from tensorflow.keras import layers, models\n",
        "from keras.layers import Dense, Flatten, Dropout, Activation, Input, Conv2D, MaxPooling2D, Conv2DTranspose, Concatenate, UpSampling2D, GlobalAveragePooling2D, Reshape, Lambda\n",
        "from keras.models import Sequential, Model\n",
        "from tensorflow.keras.optimizers import SGD\n",
        "from tensorflow.keras.applications import VGG16, InceptionV3, ResNet50, MobileNetV2, EfficientNetB7, Xception, InceptionResNetV2\n",
        "from tensorflow.keras.models import load_model\n",
        "\n",
        "# Model Training\n",
        "from sklearn.model_selection import train_test_split\n",
        "from tensorflow.keras.optimizers import Adam\n",
        "from tensorflow.keras.callbacks import EarlyStopping\n",
        "from tensorflow.keras.callbacks import ModelCheckpoint\n",
        "from sklearn.metrics import precision_score, recall_score, f1_score, classification_report\n",
        "\n",
        "# Hyperparameter Tuning\n",
        "from sklearn.model_selection import RandomizedSearchCV\n",
        "\n",
        "# Analysis\n",
        "from sklearn.metrics import confusion_matrix\n",
        "import seaborn as sns\n",
        "from tensorflow.keras.callbacks import Callback\n",
        "\n",
        "import PIL\n",
        "from pathlib import Path\n",
        "from PIL import UnidentifiedImageError\n",
        "import cv2"
      ]
    },
    {
      "cell_type": "code",
      "source": [
        "tf.config.list_physical_devices('GPU')"
      ],
      "metadata": {
        "id": "y6YMbI5rLYxP",
        "colab": {
          "base_uri": "https://localhost:8080/"
        },
        "outputId": "13f2ba05-7003-43ec-fd1a-0c5c6e5c99ba"
      },
      "execution_count": null,
      "outputs": [
        {
          "output_type": "execute_result",
          "data": {
            "text/plain": [
              "[]"
            ]
          },
          "metadata": {},
          "execution_count": 2
        }
      ]
    },
    {
      "cell_type": "code",
      "execution_count": null,
      "metadata": {
        "colab": {
          "base_uri": "https://localhost:8080/"
        },
        "id": "18BbhfHtpMCd",
        "outputId": "7782a424-3247-4b89-e292-5f016ddb9007"
      },
      "outputs": [
        {
          "output_type": "stream",
          "name": "stdout",
          "text": [
            "Mounted at /content/drive\n"
          ]
        }
      ],
      "source": [
        "#Load Data\n",
        "\n",
        "from google.colab import drive\n",
        "drive.mount('/content/drive')"
      ]
    },
    {
      "cell_type": "code",
      "source": [
        "MAIN_IMAGE_PATH = Path(\"/content/drive/MyDrive/Deep Learning Group Project/segmentation_images/train_val/images/Fish and Vertebrates\")\n",
        "MAIN_MASK_PATH = Path(\"/content/drive/MyDrive/Deep Learning Group Project/segmentation_images/train_val/masks/Fish and Vertebrates\")\n",
        "\n",
        "OBJECT_PATH = list(MAIN_IMAGE_PATH.glob(r\"*.jpg\"))\n",
        "MASK_PATH = list(MAIN_MASK_PATH.glob(r\"*.bmp\"))\n",
        "\n",
        "OBJECT_PATH = sorted(OBJECT_PATH)\n",
        "MASK_PATH = sorted(MASK_PATH)\n",
        "\n",
        "OBJECT_SERIES = pd.Series(OBJECT_PATH,name=\"OBJECTS\").astype(str)\n",
        "MASK_SERIES = pd.Series(MASK_PATH,name=\"MASK\").astype(str)\n",
        "\n",
        "MAIN_DATA = pd.concat([OBJECT_SERIES,MASK_SERIES],axis=1)\n",
        "\n",
        "MASK_MAIN_TRANSFORMATION = []\n",
        "OBJECT_MAIN_TRANSFORMATION = []\n",
        "ADD_MAIN_TRANSFORMATION = []\n",
        "\n",
        "for x_image,x_mask in zip(MAIN_DATA.OBJECTS,MAIN_DATA.MASK):\n",
        "\n",
        "    IMAGE_X = cv2.cvtColor(cv2.imread(x_image),cv2.COLOR_BGR2RGB)\n",
        "    MASK_X = cv2.cvtColor(cv2.imread(x_mask),cv2.COLOR_BGR2RGB)\n",
        "\n",
        "    RESIZED_X_IMAGE = cv2.resize(IMAGE_X,(300,300))\n",
        "    RESIZED_X_MASK = cv2.resize(MASK_X,(300,300))\n",
        "\n",
        "    ADD_X = cv2.addWeighted(RESIZED_X_IMAGE,0.6,RESIZED_X_MASK,0.6,0.5)\n",
        "\n",
        "    RESIZED_X_ADD = cv2.resize(ADD_X,(300,300))\n",
        "\n",
        "    MASK_MAIN_TRANSFORMATION.append(RESIZED_X_MASK)\n",
        "    OBJECT_MAIN_TRANSFORMATION.append(RESIZED_X_IMAGE)\n",
        "    ADD_MAIN_TRANSFORMATION.append(RESIZED_X_ADD)\n",
        "\n",
        "print(\"WHEN IT IS ARRAY IMAGE SHAPE: \",np.shape(np.array(OBJECT_MAIN_TRANSFORMATION)))\n",
        "print(\"WHEN IT IS ARRAY MASK SHAPE: \",np.shape(np.array(MASK_MAIN_TRANSFORMATION)))\n",
        "print(\"WHEN IT IS ARRAY ADD SHAPE: \",np.shape(np.array(ADD_MAIN_TRANSFORMATION)))\n",
        "\n",
        "Transformation_Image = np.array(OBJECT_MAIN_TRANSFORMATION,dtype=\"float32\")\n",
        "Transformation_Mask = np.array(MASK_MAIN_TRANSFORMATION,dtype=\"float32\")\n",
        "Transformation_Add = np.array(ADD_MAIN_TRANSFORMATION,dtype=\"float32\")\n",
        "\n",
        "Transformation_Image = Transformation_Image / 255.\n",
        "Transformation_Mask = Transformation_Mask / 255.\n",
        "Transformation_Add = Transformation_Add / 255.\n",
        "\n",
        "print(\"TRAIN: \",Transformation_Image.shape)\n",
        "print(\"TRANSFORMATION MASK: \",Transformation_Mask.shape)\n",
        "print(\"TRANSFORMATION ADD: \",Transformation_Add.shape)"
      ],
      "metadata": {
        "colab": {
          "base_uri": "https://localhost:8080/"
        },
        "id": "vvzgyMODpamq",
        "outputId": "3d324a69-8180-4887-953d-d1342d5c377a"
      },
      "execution_count": null,
      "outputs": [
        {
          "output_type": "stream",
          "name": "stdout",
          "text": [
            "WHEN IT IS ARRAY IMAGE SHAPE:  (989, 300, 300, 3)\n",
            "WHEN IT IS ARRAY MASK SHAPE:  (989, 300, 300, 3)\n",
            "WHEN IT IS ARRAY ADD SHAPE:  (989, 300, 300, 3)\n",
            "TRAIN:  (989, 300, 300, 3)\n",
            "TRANSFORMATION MASK:  (989, 300, 300, 3)\n",
            "TRANSFORMATION ADD:  (989, 300, 300, 3)\n"
          ]
        }
      ]
    },
    {
      "cell_type": "code",
      "source": [
        "# Constants\n",
        "input_shape = (300, 300, 3)\n",
        "BATCH_SIZE = 256 # number of samples per gradient update\n",
        "EPOCHS = 30 # number of epochs to train the model\n",
        "NUM_CLASSES = 23 # number of classes at the dataset\n",
        "SPLIT_SIZE = .8 # Define proportion of images used for training\n",
        "\n",
        "# Model training\n",
        "LOSS = 'sparse_categorical_crossentropy'\n",
        "METRICS = ['accuracy']\n",
        "\n",
        "# Hyperparameters\n",
        "LEARNING_RATE = 1e-3 # learning rate for the optimizer\n",
        "\n",
        "# Random Seed\n",
        "RANDOM_SEED = 48 # set random seed for reproducibility\n",
        "os.environ['PYTHONHASHSEED']=str(RANDOM_SEED)\n",
        "random.seed(RANDOM_SEED)\n",
        "tf.random.set_seed(RANDOM_SEED) # set random seed for TensorFlow\n",
        "np.random.seed(RANDOM_SEED) # set random seed for NumPy\n",
        "tf.config.threading.set_inter_op_parallelism_threads(1)\n",
        "tf.config.threading.set_intra_op_parallelism_threads(1)"
      ],
      "metadata": {
        "id": "FBQ5gN_NYrBI"
      },
      "execution_count": null,
      "outputs": []
    },
    {
      "cell_type": "code",
      "source": [
        "def SegmentationCNN(input_shape):\n",
        "    # Load pre-trained InceptionV3 model (without top layers)\n",
        "    base_model = InceptionV3(weights='imagenet', include_top=False, input_shape=input_shape)\n",
        "\n",
        "    # Add custom layers for segmentation\n",
        "    x = base_model.output\n",
        "    x = Conv2D(512, (1, 1), activation='relu')(x)\n",
        "    x = Conv2DTranspose(256, (3, 3), strides=(2, 2), padding='same', activation='relu')(x)  # Upsample\n",
        "    x = Conv2DTranspose(128, (3, 3), strides=(2, 2), padding='same', activation='relu')(x)  # Upsample\n",
        "    x = Conv2DTranspose(64, (3, 3), strides=(2, 2), padding='same', activation='relu')(x)   # Upsample\n",
        "    output = Conv2D(3, (1, 1), activation='sigmoid')(x)  # Adjust output channels to match number of classes\n",
        "\n",
        "    # Crop or pad the output to match the target shape (300, 300, 3)\n",
        "    target_shape = (300, 300, 3)\n",
        "    output = Lambda(lambda image: tf.image.resize(image, target_shape[:2]))(output)\n",
        "\n",
        "    # Create model\n",
        "    model = Model(inputs=base_model.input, outputs=output)\n",
        "    return model"
      ],
      "metadata": {
        "id": "qjO5jg7A0_qR"
      },
      "execution_count": null,
      "outputs": []
    },
    {
      "cell_type": "code",
      "source": [
        "model = SegmentationCNN(input_shape)"
      ],
      "metadata": {
        "id": "efFO6dHj2CWT",
        "colab": {
          "base_uri": "https://localhost:8080/"
        },
        "outputId": "bb462e72-ae21-47dd-a065-2b12cb1abb5b"
      },
      "execution_count": null,
      "outputs": [
        {
          "output_type": "stream",
          "name": "stdout",
          "text": [
            "Downloading data from https://storage.googleapis.com/tensorflow/keras-applications/inception_v3/inception_v3_weights_tf_dim_ordering_tf_kernels_notop.h5\n",
            "87910968/87910968 [==============================] - 1s 0us/step\n"
          ]
        }
      ]
    },
    {
      "cell_type": "code",
      "source": [
        "model.compile(optimizer='adam', loss='binary_crossentropy', metrics=['accuracy'])"
      ],
      "metadata": {
        "id": "O7BYWYf12YDc"
      },
      "execution_count": null,
      "outputs": []
    },
    {
      "cell_type": "code",
      "source": [
        "print(\"Shape of model output:\", model.output_shape)\n",
        "print(\"Shape of target data:\", Transformation_Mask.shape)"
      ],
      "metadata": {
        "colab": {
          "base_uri": "https://localhost:8080/"
        },
        "id": "QFE-4mgRpsWq",
        "outputId": "7ea24eee-0853-4268-eebd-b6ba1293ac2d"
      },
      "execution_count": null,
      "outputs": [
        {
          "output_type": "stream",
          "name": "stdout",
          "text": [
            "Shape of model output: (None, 300, 300, 3)\n",
            "Shape of target data: (989, 300, 300, 3)\n"
          ]
        }
      ]
    },
    {
      "cell_type": "code",
      "source": [
        "model.fit(Transformation_Image, Transformation_Mask, batch_size=32, epochs=5, validation_split=0.2)"
      ],
      "metadata": {
        "colab": {
          "base_uri": "https://localhost:8080/"
        },
        "id": "fihzYXqG2YbG",
        "outputId": "27a51aa8-23e6-44a3-d0d6-6a2ffe4bb163"
      },
      "execution_count": null,
      "outputs": [
        {
          "output_type": "stream",
          "name": "stdout",
          "text": [
            "Epoch 1/5\n",
            "25/25 [==============================] - 971s 38s/step - loss: 0.5407 - accuracy: 0.9217 - val_loss: 0.7667 - val_accuracy: 0.9499\n",
            "Epoch 2/5\n",
            "25/25 [==============================] - 921s 37s/step - loss: 0.4878 - accuracy: 0.9490 - val_loss: 3.9595 - val_accuracy: 0.8243\n",
            "Epoch 3/5\n",
            "25/25 [==============================] - 928s 37s/step - loss: 0.3888 - accuracy: 0.9552 - val_loss: 1.2642 - val_accuracy: 0.8973\n",
            "Epoch 4/5\n",
            "25/25 [==============================] - 927s 37s/step - loss: 0.3373 - accuracy: 0.9028 - val_loss: 3.4600 - val_accuracy: 0.4751\n",
            "Epoch 5/5\n",
            "25/25 [==============================] - 923s 37s/step - loss: 0.3028 - accuracy: 0.8797 - val_loss: 0.9222 - val_accuracy: 0.8741\n"
          ]
        },
        {
          "output_type": "execute_result",
          "data": {
            "text/plain": [
              "<keras.src.callbacks.History at 0x7970a40964d0>"
            ]
          },
          "metadata": {},
          "execution_count": 11
        }
      ]
    },
    {
      "cell_type": "code",
      "source": [
        "def ClassificationCNN(segmentation_model, num_classes=9):\n",
        "    # Remove the last layer from the segmentation model, because the last layer is used for segmentation, but we don't need that to run our original dataset\n",
        "    segmentation_output = segmentation_model.layers[-1].output  # Assuming the last layer is the final convolutional layer\n",
        "\n",
        "    # Global average pooling to reduce dimensions\n",
        "    pooling = GlobalAveragePooling2D()(segmentation_output)\n",
        "\n",
        "    # Classification layer\n",
        "    output = Dense(num_classes, activation='softmax')(pooling)\n",
        "\n",
        "    # Create model\n",
        "    model = Model(inputs=segmentation_model.input, outputs=output)\n",
        "    return model"
      ],
      "metadata": {
        "id": "-pXeKi6oK395"
      },
      "execution_count": null,
      "outputs": []
    },
    {
      "cell_type": "markdown",
      "source": [
        "Using the transfer learning model on our origial dataset"
      ],
      "metadata": {
        "id": "iM6T5yalndSb"
      }
    },
    {
      "cell_type": "code",
      "source": [
        "ORIGINAL_TRAIN_DIR = \"/content/drive/MyDrive/Deep Learning Group Project/original_data/train\"\n",
        "ORIGINAL_TEST_DIR = \"/content/drive/MyDrive/Deep Learning Group Project/original_data/test\""
      ],
      "metadata": {
        "id": "Ps7f1loyIWP-"
      },
      "execution_count": null,
      "outputs": []
    },
    {
      "cell_type": "code",
      "source": [
        "# Specify the directory paths for the data (train , test , validate)\n",
        "# Define root directory\n",
        "root_dir = '/content/drive/MyDrive/Deep Learning Group Project/images/'\n",
        "TRAINING_DIR =f\"{root_dir}train/\"  # path to the directory containing train  data\n",
        "VALIDATION_DIR = f\"{root_dir}valid/\" # path to the directory containing validation data\n",
        "TEST_DIR = f\"{root_dir}test/\" # path to the directory containing test data\n",
        "\n",
        "try:\n",
        "    os.mkdir(root_dir)\n",
        "    os.mkdir(TRAINING_DIR)\n",
        "    os.mkdir(VALIDATION_DIR)\n",
        "    os.mkdir(TEST_DIR)\n",
        "except FileExistsError:\n",
        "    print(\"Dir Already Exists\")"
      ],
      "metadata": {
        "id": "4ltznLkZIZTc",
        "colab": {
          "base_uri": "https://localhost:8080/"
        },
        "outputId": "ec971973-c47d-4448-d2da-4c16f15c265d"
      },
      "execution_count": null,
      "outputs": [
        {
          "output_type": "stream",
          "name": "stdout",
          "text": [
            "Dir Already Exists\n"
          ]
        }
      ]
    },
    {
      "cell_type": "code",
      "source": [
        "#  create_train_val_dirs\n",
        "def create_train_val_dirs(root_path):\n",
        "\n",
        "  os.mkdir(root_path)\n",
        "  os.mkdir(root_path+'/train')\n",
        "  os.mkdir(root_path+'/val')\n",
        "  os.mkdir(root_path+'/train/Fish')\n",
        "  os.mkdir(root_path+'/train/Goldfish')\n",
        "  os.mkdir(root_path+'/train/Harbor seal')\n",
        "  os.mkdir(root_path+'/train/Jellyfish')\n",
        "  os.mkdir(root_path+'/train/Lobster')\n",
        "  os.mkdir(root_path+'/train/Oyster')\n",
        "  os.mkdir(root_path+'/train/Sea turtle')\n",
        "  os.mkdir(root_path+'/train/Squid')\n",
        "  os.mkdir(root_path+'/train/Starfish')\n",
        "\n",
        "  os.mkdir(root_path+'/val/Fish')\n",
        "  os.mkdir(root_path+'/val/Goldfish')\n",
        "  os.mkdir(root_path+'/val/Harbor seal')\n",
        "  os.mkdir(root_path+'/val/Jellyfish')\n",
        "  os.mkdir(root_path+'/val/Lobster')\n",
        "  os.mkdir(root_path+'/val/Oyster')\n",
        "  os.mkdir(root_path+'/val/Sea turtle')\n",
        "  os.mkdir(root_path+'/val/Squid')\n",
        "  os.mkdir(root_path+'/val/Starfish')"
      ],
      "metadata": {
        "id": "jFz8239GIf7G"
      },
      "execution_count": null,
      "outputs": []
    },
    {
      "cell_type": "code",
      "source": [
        "# Call create_train_val_dirs\n",
        "\n",
        "# Empty directory to prevent FileExistsError is the function is run several times\n",
        "if os.path.exists(root_dir):\n",
        "  shutil.rmtree(root_dir)\n",
        "try:\n",
        "    create_train_val_dirs(root_path=root_dir)\n",
        "except FileExistsError:\n",
        "    print(\"Error\")"
      ],
      "metadata": {
        "id": "TBWBADl_IiL8"
      },
      "execution_count": null,
      "outputs": []
    },
    {
      "cell_type": "code",
      "source": [
        "# Test your create_train_val_dirs function\n",
        "for rootdir, dirs, files in os.walk(root_dir):\n",
        "    for subdir in dirs:\n",
        "        print(os.path.join(rootdir, subdir))"
      ],
      "metadata": {
        "id": "z9yQXBXLIiYq",
        "colab": {
          "base_uri": "https://localhost:8080/"
        },
        "outputId": "9302fb91-1c59-4418-f8d8-12e167ba0e64"
      },
      "execution_count": null,
      "outputs": [
        {
          "output_type": "stream",
          "name": "stdout",
          "text": [
            "/content/drive/MyDrive/Deep Learning Group Project/images/train\n",
            "/content/drive/MyDrive/Deep Learning Group Project/images/val\n",
            "/content/drive/MyDrive/Deep Learning Group Project/images/train/Fish\n",
            "/content/drive/MyDrive/Deep Learning Group Project/images/train/Goldfish\n",
            "/content/drive/MyDrive/Deep Learning Group Project/images/train/Harbor seal\n",
            "/content/drive/MyDrive/Deep Learning Group Project/images/train/Jellyfish\n",
            "/content/drive/MyDrive/Deep Learning Group Project/images/train/Lobster\n",
            "/content/drive/MyDrive/Deep Learning Group Project/images/train/Oyster\n",
            "/content/drive/MyDrive/Deep Learning Group Project/images/train/Sea turtle\n",
            "/content/drive/MyDrive/Deep Learning Group Project/images/train/Squid\n",
            "/content/drive/MyDrive/Deep Learning Group Project/images/train/Starfish\n",
            "/content/drive/MyDrive/Deep Learning Group Project/images/val/Fish\n",
            "/content/drive/MyDrive/Deep Learning Group Project/images/val/Goldfish\n",
            "/content/drive/MyDrive/Deep Learning Group Project/images/val/Harbor seal\n",
            "/content/drive/MyDrive/Deep Learning Group Project/images/val/Jellyfish\n",
            "/content/drive/MyDrive/Deep Learning Group Project/images/val/Lobster\n",
            "/content/drive/MyDrive/Deep Learning Group Project/images/val/Oyster\n",
            "/content/drive/MyDrive/Deep Learning Group Project/images/val/Sea turtle\n",
            "/content/drive/MyDrive/Deep Learning Group Project/images/val/Squid\n",
            "/content/drive/MyDrive/Deep Learning Group Project/images/val/Starfish\n"
          ]
        }
      ]
    },
    {
      "cell_type": "code",
      "source": [
        "# split_data\n",
        "def split_data(SOURCE_DIR, TRAINING_DIR, VALIDATION_DIR, SPLIT_SIZE):\n",
        "  \"\"\"\n",
        "  Splits the data into train and test sets\n",
        "\n",
        "  Args:\n",
        "    SOURCE_DIR (string): directory path containing the images\n",
        "    TRAINING_DIR (string): directory path to be used for training\n",
        "    VALIDATION_DIR (string): directory path to be used for validation\n",
        "    SPLIT_SIZE (float): proportion of the dataset to be used for training\n",
        "\n",
        "  Returns:\n",
        "    None\n",
        "  \"\"\"\n",
        "\n",
        "  files = []\n",
        "  for filename in os.listdir(SOURCE_DIR):\n",
        "      file = SOURCE_DIR + filename\n",
        "      if os.path.getsize(file) > 0:\n",
        "          files.append(filename)\n",
        "      else:\n",
        "          print(filename + \" is zero length, so ignoring.\")\n",
        "\n",
        "  training_length = int(len(files) * SPLIT_SIZE)\n",
        "  testing_length = int(len(files) - training_length)\n",
        "  shuffled_set = random.sample(files, len(files))\n",
        "  training_set = shuffled_set[0:training_length]\n",
        "  testing_set = shuffled_set[-testing_length:]\n",
        "\n",
        "  for filename in training_set:\n",
        "      this_file = SOURCE_DIR + filename\n",
        "      destination = TRAINING_DIR + filename\n",
        "      copyfile(this_file, destination)\n",
        "\n",
        "  for filename in testing_set:\n",
        "      this_file = SOURCE_DIR + filename\n",
        "      destination = VALIDATION_DIR + filename\n",
        "      copyfile(this_file, destination)"
      ],
      "metadata": {
        "id": "mhGvxZ5MIl7Z"
      },
      "execution_count": null,
      "outputs": []
    },
    {
      "cell_type": "code",
      "source": [
        "# Test your split_data function\n",
        "# Define paths\n",
        "\n",
        "\n",
        "Fish_SOURCE_DIR = f\"{ORIGINAL_TRAIN_DIR}/Fish/\"\n",
        "Goldfish_SOURCE_DIR = f\"{ORIGINAL_TRAIN_DIR}/Goldfish/\"\n",
        "Harbor_seal_SOURCE_DIR = f\"{ORIGINAL_TRAIN_DIR}/Harbor seal/\"\n",
        "Jellyfish_SOURCE_DIR = f\"{ORIGINAL_TRAIN_DIR}/Jellyfish/\"\n",
        "Lobster_SOURCE_DIR = f\"{ORIGINAL_TRAIN_DIR}/Lobster/\"\n",
        "Oyster_SOURCE_DIR = f\"{ORIGINAL_TRAIN_DIR}/Oyster/\"\n",
        "Sea_turtle_SOURCE_DIR = f\"{ORIGINAL_TRAIN_DIR}/Sea turtle/\"\n",
        "Squid_SOURCE_DIR = f\"{ORIGINAL_TRAIN_DIR}/Squid/\"\n",
        "Starfish_SOURCE_DIR = f\"{ORIGINAL_TRAIN_DIR}/Starfish/\"\n",
        "\n",
        "\n",
        "TRAINING_DIR = \"/content/drive/MyDrive/Deep Learning Group Project/images/train/\"\n",
        "VALIDATION_DIR = \"/content/drive/MyDrive/Deep Learning Group Project/images/val/\"\n",
        "TRAINING_Fish_DIR = os.path.join(TRAINING_DIR, \"Fish/\")\n",
        "VALIDATION_Fish_DIR = os.path.join(VALIDATION_DIR, \"Fish/\")\n",
        "TRAINING_Goldfish_DIR = os.path.join(TRAINING_DIR, \"Goldfish/\")\n",
        "VALIDATION_Goldfish_DIR = os.path.join(VALIDATION_DIR, \"Goldfish/\")\n",
        "TRAINING_Harbor_seal_DIR = os.path.join(TRAINING_DIR, \"Harbor seal/\")\n",
        "VALIDATION_Harbor_seal_DIR = os.path.join(VALIDATION_DIR, \"Harbor seal/\")\n",
        "TRAINING_Jellyfish_DIR = os.path.join(TRAINING_DIR, \"Jellyfish/\")\n",
        "VALIDATION_Jellyfish_DIR = os.path.join(VALIDATION_DIR, \"Jellyfish/\")\n",
        "TRAINING_Lobster_DIR = os.path.join(TRAINING_DIR, \"Lobster/\")\n",
        "VALIDATION_Lobster_DIR = os.path.join(VALIDATION_DIR, \"Lobster/\")\n",
        "TRAINING_Oyster_DIR = os.path.join(TRAINING_DIR, \"Oyster/\")\n",
        "VALIDATION_Oyster_DIR = os.path.join(VALIDATION_DIR, \"Oyster/\")\n",
        "TRAINING_Sea_turtle_DIR = os.path.join(TRAINING_DIR, \"Sea turtle/\")\n",
        "VALIDATION_Sea_turtle_DIR = os.path.join(VALIDATION_DIR, \"Sea turtle/\")\n",
        "TRAINING_Squid_DIR = os.path.join(TRAINING_DIR, \"Squid/\")\n",
        "VALIDATION_Squid_DIR = os.path.join(VALIDATION_DIR, \"Squid/\")\n",
        "TRAINING_Starfish_DIR = os.path.join(TRAINING_DIR, \"Starfish/\")\n",
        "VALIDATION_Starfish_DIR = os.path.join(VALIDATION_DIR, \"Starfish/\")\n",
        "\n",
        "# Empty directories in case you run this cell multiple times\n",
        "\n",
        "if len(os.listdir(TRAINING_Fish_DIR)) > 0:\n",
        "  for file in os.scandir(TRAINING_Fish_DIR):\n",
        "    os.remove(file.path)\n",
        "if len(os.listdir(TRAINING_Goldfish_DIR)) > 0:\n",
        "  for file in os.scandir(TRAINING_Goldfish_DIR):\n",
        "    os.remove(file.path)\n",
        "if len(os.listdir(TRAINING_Harbor_seal_DIR)) > 0:\n",
        "  for file in os.scandir(TRAINING_Harbor_seal_DIR):\n",
        "    os.remove(file.path)\n",
        "if len(os.listdir(TRAINING_Jellyfish_DIR)) > 0:\n",
        "  for file in os.scandir(TRAINING_Jellyfish_DIR):\n",
        "    os.remove(file.path)\n",
        "if len(os.listdir(TRAINING_Lobster_DIR)) > 0:\n",
        "  for file in os.scandir(TRAINING_Lobster_DIR):\n",
        "    os.remove(file.path)\n",
        "if len(os.listdir(TRAINING_Oyster_DIR)) > 0:\n",
        "  for file in os.scandir(TRAINING_Oyster_DIR):\n",
        "    os.remove(file.path)\n",
        "if len(os.listdir(TRAINING_Sea_turtle_DIR)) > 0:\n",
        "  for file in os.scandir(TRAINING_Sea_turtle_DIR):\n",
        "    os.remove(file.path)\n",
        "if len(os.listdir(TRAINING_Squid_DIR)) > 0:\n",
        "  for file in os.scandir(TRAINING_Squid_DIR):\n",
        "    os.remove(file.path)\n",
        "if len(os.listdir(TRAINING_Starfish_DIR)) > 0:\n",
        "  for file in os.scandir(TRAINING_Starfish_DIR):\n",
        "    os.remove(file.path)\n",
        "\n",
        "# Validation Dirs\n",
        "\n",
        "if len(os.listdir(VALIDATION_Fish_DIR)) > 0:\n",
        "  for file in os.scandir(VALIDATION_Fish_DIR):\n",
        "    os.remove(file.path)\n",
        "if len(os.listdir(VALIDATION_Goldfish_DIR)) > 0:\n",
        "  for file in os.scandir(VALIDATION_Goldfish_DIR):\n",
        "    os.remove(file.path)\n",
        "if len(os.listdir(VALIDATION_Harbor_seal_DIR)) > 0:\n",
        "  for file in os.scandir(VALIDATION_Harbor_seal_DIR):\n",
        "    os.remove(file.path)\n",
        "if len(os.listdir(VALIDATION_Jellyfish_DIR)) > 0:\n",
        "  for file in os.scandir(VALIDATION_Jellyfish_DIR):\n",
        "    os.remove(file.path)\n",
        "if len(os.listdir(VALIDATION_Lobster_DIR)) > 0:\n",
        "  for file in os.scandir(VALIDATION_Lobster_DIR):\n",
        "    os.remove(file.path)\n",
        "if len(os.listdir(VALIDATION_Oyster_DIR)) > 0:\n",
        "  for file in os.scandir(VALIDATION_Oyster_DIR):\n",
        "    os.remove(file.path)\n",
        "if len(os.listdir(VALIDATION_Sea_turtle_DIR)) > 0:\n",
        "  for file in os.scandir(VALIDATION_Sea_turtle_DIR):\n",
        "    os.remove(file.path)\n",
        "if len(os.listdir(VALIDATION_Squid_DIR)) > 0:\n",
        "  for file in os.scandir(VALIDATION_Squid_DIR):\n",
        "    os.remove(file.path)\n",
        "if len(os.listdir(VALIDATION_Starfish_DIR)) > 0:\n",
        "  for file in os.scandir(VALIDATION_Starfish_DIR):\n",
        "    os.remove(file.path)\n",
        "\n",
        "\n",
        "\n",
        "# Run the function\n",
        "split_data(Fish_SOURCE_DIR, TRAINING_Fish_DIR, VALIDATION_Fish_DIR, SPLIT_SIZE)\n",
        "print(Fish_SOURCE_DIR)\n",
        "print(TRAINING_Fish_DIR)\n",
        "print(VALIDATION_Fish_DIR)\n",
        "split_data(Goldfish_SOURCE_DIR , TRAINING_Goldfish_DIR, VALIDATION_Goldfish_DIR, SPLIT_SIZE)\n",
        "split_data(Harbor_seal_SOURCE_DIR , TRAINING_Harbor_seal_DIR , VALIDATION_Harbor_seal_DIR, SPLIT_SIZE)\n",
        "split_data(Jellyfish_SOURCE_DIR, TRAINING_Jellyfish_DIR, VALIDATION_Jellyfish_DIR, SPLIT_SIZE)\n",
        "split_data(Lobster_SOURCE_DIR, TRAINING_Lobster_DIR, VALIDATION_Lobster_DIR, SPLIT_SIZE)\n",
        "split_data(Oyster_SOURCE_DIR, TRAINING_Oyster_DIR, VALIDATION_Oyster_DIR, SPLIT_SIZE)\n",
        "split_data(Sea_turtle_SOURCE_DIR, TRAINING_Sea_turtle_DIR, VALIDATION_Sea_turtle_DIR, SPLIT_SIZE)\n",
        "split_data(Squid_SOURCE_DIR, TRAINING_Squid_DIR, VALIDATION_Squid_DIR, SPLIT_SIZE)\n",
        "split_data(Starfish_SOURCE_DIR, TRAINING_Starfish_DIR, VALIDATION_Starfish_DIR, SPLIT_SIZE)\n",
        "\n",
        "\n",
        "\n",
        "# Check that the number of images matches the expected output\n",
        "# function should perform copies rather than moving images so original directories should contain unchanged images\n",
        "\n",
        "# Training and validation splits\n",
        "num_fish = len(os.listdir(Fish_SOURCE_DIR))\n",
        "print(f\"Original Fish's directory has {num_fish} images\")\n",
        "print(f\"There are {len(os.listdir(TRAINING_Fish_DIR))} images of Fish for training\")\n",
        "print(f\"There are {len(os.listdir(VALIDATION_Fish_DIR))} images of Fish for validation\")\n",
        "print('\\n\\n')\n",
        "\n",
        "num_goldfish = len(os.listdir(Goldfish_SOURCE_DIR))\n",
        "print(f\"Original Goldfish's directory has {num_goldfish} images\")\n",
        "print(f\"There are {len(os.listdir(TRAINING_Goldfish_DIR))} images of Goldfish for training\")\n",
        "print(f\"There are {len(os.listdir(VALIDATION_Goldfish_DIR))} images of Goldfish for validation\")\n",
        "print('\\n\\n')\n",
        "\n",
        "num_seal = len(os.listdir(Harbor_seal_SOURCE_DIR))\n",
        "print(f\"Original Harbor seal's directory has {num_seal} images\")\n",
        "print(f\"There are {len(os.listdir(TRAINING_Harbor_seal_DIR))} images of Harbor seal for training\")\n",
        "print(f\"There are {len(os.listdir(VALIDATION_Harbor_seal_DIR))} images of Harbor seal for validation\")\n",
        "print('\\n\\n')\n",
        "\n",
        "num_jellyfish = len(os.listdir(Jellyfish_SOURCE_DIR))\n",
        "print(f\"Original Jellyfish's directory has {num_jellyfish} images\")\n",
        "print(f\"There are {len(os.listdir(TRAINING_Jellyfish_DIR))} images of Jellyfish for training\")\n",
        "print(f\"There are {len(os.listdir(VALIDATION_Jellyfish_DIR))} images of Jellyfish for validation\")\n",
        "print('\\n\\n')\n",
        "\n",
        "num_lobster = len(os.listdir(Lobster_SOURCE_DIR))\n",
        "print(f\"Original Lobster's directory has {num_lobster} images\")\n",
        "print(f\"There are {len(os.listdir(TRAINING_Lobster_DIR))} images of Lobster for training\")\n",
        "print(f\"There are {len(os.listdir(VALIDATION_Lobster_DIR))} images of Lobster for validation\")\n",
        "print('\\n\\n')\n",
        "\n",
        "num_oyster = len(os.listdir(Oyster_SOURCE_DIR))\n",
        "print(f\"Original Oyster's directory has {num_oyster} images\")\n",
        "print(f\"There are {len(os.listdir(TRAINING_Oyster_DIR))} images of Oyster for training\")\n",
        "print(f\"There are {len(os.listdir(VALIDATION_Oyster_DIR))} images of Oyster for validation\")\n",
        "print('\\n\\n')\n",
        "\n",
        "num_turtle = len(os.listdir(Sea_turtle_SOURCE_DIR))\n",
        "print(f\"Original Sea turtle's directory has {num_turtle} images\")\n",
        "print(f\"There are {len(os.listdir(TRAINING_Sea_turtle_DIR))} images of Sea turtle for training\")\n",
        "print(f\"There are {len(os.listdir(VALIDATION_Sea_turtle_DIR))} images of Sea turtle for validation\")\n",
        "print('\\n\\n')\n",
        "\n",
        "num_squid = len(os.listdir(Squid_SOURCE_DIR))\n",
        "print(f\"Original Squid's directory has {num_squid} images\")\n",
        "print(f\"There are {len(os.listdir(TRAINING_Squid_DIR))} images of Squid for training\")\n",
        "print(f\"There are {len(os.listdir(VALIDATION_Squid_DIR))} images of Squid for validation\")\n",
        "print('\\n\\n')\n",
        "\n",
        "num_starfish = len(os.listdir(Starfish_SOURCE_DIR))\n",
        "print(f\"Original Starfish's directory has {num_starfish} images\")\n",
        "print(f\"There are {len(os.listdir(TRAINING_Starfish_DIR))} images of Starfish for training\")\n",
        "print(f\"There are {len(os.listdir(VALIDATION_Starfish_DIR))} images of Starfish for validation\")\n",
        "print('\\n\\n')"
      ],
      "metadata": {
        "id": "Jq0uKyJVImLp",
        "colab": {
          "base_uri": "https://localhost:8080/"
        },
        "outputId": "6ea070a4-9bf6-4f4a-9a4d-68bb7b736ecc"
      },
      "execution_count": null,
      "outputs": [
        {
          "output_type": "stream",
          "name": "stdout",
          "text": [
            "/content/drive/MyDrive/Deep Learning Group Project/original_data/train/Fish/\n",
            "/content/drive/MyDrive/Deep Learning Group Project/images/train/Fish/\n",
            "/content/drive/MyDrive/Deep Learning Group Project/images/val/Fish/\n",
            "Original Fish's directory has 89 images\n",
            "There are 71 images of Fish for training\n",
            "There are 18 images of Fish for validation\n",
            "\n",
            "\n",
            "\n",
            "Original Goldfish's directory has 65 images\n",
            "There are 52 images of Goldfish for training\n",
            "There are 13 images of Goldfish for validation\n",
            "\n",
            "\n",
            "\n",
            "Original Harbor seal's directory has 46 images\n",
            "There are 36 images of Harbor seal for training\n",
            "There are 10 images of Harbor seal for validation\n",
            "\n",
            "\n",
            "\n",
            "Original Jellyfish's directory has 85 images\n",
            "There are 68 images of Jellyfish for training\n",
            "There are 17 images of Jellyfish for validation\n",
            "\n",
            "\n",
            "\n",
            "Original Lobster's directory has 39 images\n",
            "There are 31 images of Lobster for training\n",
            "There are 8 images of Lobster for validation\n",
            "\n",
            "\n",
            "\n",
            "Original Oyster's directory has 62 images\n",
            "There are 49 images of Oyster for training\n",
            "There are 13 images of Oyster for validation\n",
            "\n",
            "\n",
            "\n",
            "Original Sea turtle's directory has 82 images\n",
            "There are 65 images of Sea turtle for training\n",
            "There are 17 images of Sea turtle for validation\n",
            "\n",
            "\n",
            "\n",
            "Original Squid's directory has 49 images\n",
            "There are 39 images of Squid for training\n",
            "There are 10 images of Squid for validation\n",
            "\n",
            "\n",
            "\n",
            "Original Starfish's directory has 104 images\n",
            "There are 83 images of Starfish for training\n",
            "There are 21 images of Starfish for validation\n",
            "\n",
            "\n",
            "\n"
          ]
        }
      ]
    },
    {
      "cell_type": "code",
      "source": [
        "IMAGE_SIZE = 160 # size of the input image\n",
        "\n",
        "#  train_val_generators\n",
        "# data preprocessing\n",
        "def train_val_generators(TRAINING_DIR, VALIDATION_DIR , TEST_DIR):\n",
        "  \"\"\"\n",
        "  Creates the training and validation data generators\n",
        "\n",
        "  Args:\n",
        "    TRAINING_DIR (string): directory path containing the training images\n",
        "    VALIDATION_DIR (string): directory path containing the testing/validation images\n",
        "\n",
        "  Returns:\n",
        "    train_generator, validation_generator - tuple containing the generators\n",
        "  \"\"\"\n",
        "\n",
        "  # Instantiate the ImageDataGenerator class\n",
        "  train_datagen = ImageDataGenerator(rescale=1./255.)  # Rescale pixel values to be between 0 and 1\n",
        "\n",
        "  # Pass in the appropriate arguments to the flow_from_directory method\n",
        "  train_generator = train_datagen.flow_from_directory(directory=TRAINING_DIR,\n",
        "                                                      batch_size=BATCH_SIZE,\n",
        "                                                      class_mode='categorical',\n",
        "                                                      target_size=(IMAGE_SIZE, IMAGE_SIZE),\n",
        "                                                      shuffle = True)\n",
        "\n",
        "  # Instantiate the ImageDataGenerator class\n",
        "  validation_datagen = ImageDataGenerator(rescale=1.0/255.) #set the rescale argument\n",
        "\n",
        "  # Pass in the appropriate arguments to the flow_from_directory method\n",
        "  validation_generator = validation_datagen.flow_from_directory(directory=VALIDATION_DIR,\n",
        "                                                                batch_size=BATCH_SIZE,\n",
        "                                                                class_mode='categorical',\n",
        "                                                                target_size=(IMAGE_SIZE, IMAGE_SIZE),\n",
        "                                                                shuffle = True)\n",
        "\n",
        "  # Instantiate the ImageDataGenerator class  , For test datagenerator, we only normalize the data.\n",
        "  test_datagen = ImageDataGenerator(rescale=1./255.)\n",
        "\n",
        "  # Pass in the appropriate arguments to the flow_from_directory method\n",
        "  test_generator = test_datagen.flow_from_directory(directory=TEST_DIR,\n",
        "                                                    batch_size=BATCH_SIZE,\n",
        "                                                    class_mode='categorical',\n",
        "                                                    target_size=(IMAGE_SIZE, IMAGE_SIZE))\n",
        "\n",
        "  return train_generator, validation_generator, test_generator"
      ],
      "metadata": {
        "id": "OtNAUfXXIq_y"
      },
      "execution_count": null,
      "outputs": []
    },
    {
      "cell_type": "code",
      "source": [
        "train_generator, validation_generator, test_generator = train_val_generators(TRAINING_DIR, VALIDATION_DIR, ORIGINAL_TEST_DIR)"
      ],
      "metadata": {
        "id": "khXx7cAIIr4w",
        "colab": {
          "base_uri": "https://localhost:8080/"
        },
        "outputId": "415b0836-b0d7-4502-8f0b-1c2a0dfa35d5"
      },
      "execution_count": null,
      "outputs": [
        {
          "output_type": "stream",
          "name": "stdout",
          "text": [
            "Found 494 images belonging to 9 classes.\n",
            "Found 127 images belonging to 9 classes.\n",
            "Found 185 images belonging to 9 classes.\n"
          ]
        }
      ]
    },
    {
      "cell_type": "code",
      "source": [
        "# Create X_train and y_train from the train_generator\n",
        "X_train, y_train = next(train_generator)\n",
        "\n",
        "# Create X_test and y_test from the test_generator\n",
        "X_test, y_test = next(test_generator)"
      ],
      "metadata": {
        "id": "LfFsELYgIwdS"
      },
      "execution_count": null,
      "outputs": []
    },
    {
      "cell_type": "code",
      "source": [
        "input_shape_classification = X_train.shape[1:]\n",
        "input_shape_classification"
      ],
      "metadata": {
        "colab": {
          "base_uri": "https://localhost:8080/"
        },
        "id": "-HuPNfxcxFCl",
        "outputId": "fea34601-8910-4157-9cfe-7a0185f858a8"
      },
      "execution_count": null,
      "outputs": [
        {
          "output_type": "execute_result",
          "data": {
            "text/plain": [
              "(160, 160, 3)"
            ]
          },
          "metadata": {},
          "execution_count": 24
        }
      ]
    },
    {
      "cell_type": "code",
      "source": [
        "pip install keras-tuner\n"
      ],
      "metadata": {
        "colab": {
          "base_uri": "https://localhost:8080/"
        },
        "id": "Yl71JBXx_TRp",
        "outputId": "e1984aab-589f-4ec3-c7ee-d12723888df7"
      },
      "execution_count": null,
      "outputs": [
        {
          "output_type": "stream",
          "name": "stdout",
          "text": [
            "Collecting keras-tuner\n",
            "  Downloading keras_tuner-1.4.7-py3-none-any.whl (129 kB)\n",
            "\u001b[2K     \u001b[90m━━━━━━━━━━━━━━━━━━━━━━━━━━━━━━━━━━━━━━━━\u001b[0m \u001b[32m129.1/129.1 kB\u001b[0m \u001b[31m1.5 MB/s\u001b[0m eta \u001b[36m0:00:00\u001b[0m\n",
            "\u001b[?25hRequirement already satisfied: keras in /usr/local/lib/python3.10/dist-packages (from keras-tuner) (2.15.0)\n",
            "Requirement already satisfied: packaging in /usr/local/lib/python3.10/dist-packages (from keras-tuner) (24.0)\n",
            "Requirement already satisfied: requests in /usr/local/lib/python3.10/dist-packages (from keras-tuner) (2.31.0)\n",
            "Collecting kt-legacy (from keras-tuner)\n",
            "  Downloading kt_legacy-1.0.5-py3-none-any.whl (9.6 kB)\n",
            "Requirement already satisfied: charset-normalizer<4,>=2 in /usr/local/lib/python3.10/dist-packages (from requests->keras-tuner) (3.3.2)\n",
            "Requirement already satisfied: idna<4,>=2.5 in /usr/local/lib/python3.10/dist-packages (from requests->keras-tuner) (3.7)\n",
            "Requirement already satisfied: urllib3<3,>=1.21.1 in /usr/local/lib/python3.10/dist-packages (from requests->keras-tuner) (2.0.7)\n",
            "Requirement already satisfied: certifi>=2017.4.17 in /usr/local/lib/python3.10/dist-packages (from requests->keras-tuner) (2024.2.2)\n",
            "Installing collected packages: kt-legacy, keras-tuner\n",
            "Successfully installed keras-tuner-1.4.7 kt-legacy-1.0.5\n"
          ]
        }
      ]
    },
    {
      "cell_type": "code",
      "source": [
        "from keras_tuner import HyperModel\n",
        "\n",
        "class ClassificationHyperModel(HyperModel):\n",
        "    def __init__(self, base_model):\n",
        "        self.base_model = base_model\n",
        "\n",
        "    def build(self, hp):\n",
        "        # Hyperparameters to tune\n",
        "        learning_rate = hp.Choice('learning_rate', values=[1e-2, 1e-3, 1e-4])\n",
        "        dense_units = hp.Int('dense_units', min_value=32, max_value=512, step=32)\n",
        "\n",
        "        # Build model\n",
        "        base_model = self.base_model\n",
        "        base_model.trainable = False  # Freeze the base model\n",
        "\n",
        "        # Adding custom layers\n",
        "        x = GlobalAveragePooling2D()(base_model.output)\n",
        "        x = Dense(dense_units, activation='relu')(x)\n",
        "        outputs = Dense(9, activation='softmax')(x)  # Adjust number of classes if necessary\n",
        "\n",
        "        model = Model(inputs=base_model.input, outputs=outputs)\n",
        "        model.compile(optimizer=Adam(learning_rate=learning_rate),\n",
        "                      loss='categorical_crossentropy',\n",
        "                      metrics=['accuracy'])\n",
        "        return model"
      ],
      "metadata": {
        "id": "ApOU8IC9-p1O"
      },
      "execution_count": null,
      "outputs": []
    },
    {
      "cell_type": "code",
      "source": [
        "from keras_tuner import RandomSearch\n",
        "\n",
        "# Assume 'model' is your pre-loaded base model\n",
        "hypermodel = ClassificationHyperModel(base_model=model)\n",
        "\n",
        "tuner = RandomSearch(\n",
        "    hypermodel,\n",
        "    objective='val_accuracy',\n",
        "    max_trials=10,  # Number of variations on hyperparameters\n",
        "    executions_per_trial=2,  # Number of models that should be built and fit for each trial\n",
        "    directory='my_dir',  # Directory to save logs and models\n",
        "    project_name='classification_tuning'\n",
        ")\n",
        "\n",
        "tuner.search(train_generator,\n",
        "             epochs=10,\n",
        "             validation_data=validation_generator)\n",
        "\n",
        "best_model = tuner.get_best_models(num_models=1)[0]"
      ],
      "metadata": {
        "colab": {
          "base_uri": "https://localhost:8080/"
        },
        "id": "OaoDJyb8_Zew",
        "outputId": "301a4fe8-583f-480c-a5ba-818ff7105cd5"
      },
      "execution_count": null,
      "outputs": [
        {
          "output_type": "stream",
          "name": "stdout",
          "text": [
            "Trial 9 Complete [00h 03m 12s]\n",
            "val_accuracy: 0.17716535925865173\n",
            "\n",
            "Best val_accuracy So Far: 0.23228346556425095\n",
            "Total elapsed time: 00h 30m 05s\n",
            "\n",
            "Search: Running Trial #10\n",
            "\n",
            "Value             |Best Value So Far |Hyperparameter\n",
            "0.001             |0.01              |learning_rate\n",
            "96                |512               |dense_units\n",
            "\n",
            "Epoch 1/10\n",
            "2/2 [==============================] - 17s 9s/step - loss: 2.1971 - accuracy: 0.1113 - val_loss: 2.1860 - val_accuracy: 0.1654\n",
            "Epoch 2/10\n",
            "2/2 [==============================] - 7s 4s/step - loss: 2.1917 - accuracy: 0.1660 - val_loss: 2.1825 - val_accuracy: 0.1654\n",
            "Epoch 3/10\n",
            "2/2 [==============================] - 8s 5s/step - loss: 2.1871 - accuracy: 0.1478 - val_loss: 2.1791 - val_accuracy: 0.1890\n",
            "Epoch 4/10\n",
            "2/2 [==============================] - 7s 4s/step - loss: 2.1825 - accuracy: 0.1721 - val_loss: 2.1757 - val_accuracy: 0.1811\n",
            "Epoch 5/10\n",
            "2/2 [==============================] - 8s 4s/step - loss: 2.1777 - accuracy: 0.1802 - val_loss: 2.1725 - val_accuracy: 0.1811\n",
            "Epoch 6/10\n",
            "2/2 [==============================] - 8s 5s/step - loss: 2.1732 - accuracy: 0.1842 - val_loss: 2.1693 - val_accuracy: 0.1890\n",
            "Epoch 7/10\n",
            "2/2 [==============================] - 7s 4s/step - loss: 2.1688 - accuracy: 0.1802 - val_loss: 2.1662 - val_accuracy: 0.1890\n",
            "Epoch 8/10\n",
            "2/2 [==============================] - 8s 5s/step - loss: 2.1646 - accuracy: 0.1802 - val_loss: 2.1633 - val_accuracy: 0.1890\n",
            "Epoch 9/10\n",
            "2/2 [==============================] - 7s 4s/step - loss: 2.1602 - accuracy: 0.1781 - val_loss: 2.1604 - val_accuracy: 0.1890\n",
            "Epoch 10/10\n",
            "2/2 [==============================] - 8s 5s/step - loss: 2.1564 - accuracy: 0.1781 - val_loss: 2.1576 - val_accuracy: 0.1890\n",
            "Epoch 1/10\n",
            "2/2 [==============================] - 15s 7s/step - loss: 2.2145 - accuracy: 0.0830 - val_loss: 2.2188 - val_accuracy: 0.1181\n",
            "Epoch 2/10\n",
            "2/2 [==============================] - 7s 4s/step - loss: 2.2059 - accuracy: 0.1032 - val_loss: 2.2118 - val_accuracy: 0.1181\n",
            "Epoch 3/10\n",
            "2/2 [==============================] - 7s 5s/step - loss: 2.1978 - accuracy: 0.0992 - val_loss: 2.2055 - val_accuracy: 0.1181\n",
            "Epoch 4/10\n",
            "2/2 [==============================] - 7s 4s/step - loss: 2.1906 - accuracy: 0.0972 - val_loss: 2.1994 - val_accuracy: 0.1811\n",
            "Epoch 5/10\n",
            "2/2 [==============================] - 8s 4s/step - loss: 2.1836 - accuracy: 0.1640 - val_loss: 2.1936 - val_accuracy: 0.1732\n",
            "Epoch 6/10\n",
            "2/2 [==============================] - 8s 5s/step - loss: 2.1768 - accuracy: 0.1721 - val_loss: 2.1882 - val_accuracy: 0.1732\n",
            "Epoch 7/10\n",
            "2/2 [==============================] - 7s 4s/step - loss: 2.1707 - accuracy: 0.1842 - val_loss: 2.1831 - val_accuracy: 0.1732\n",
            "Epoch 8/10\n",
            "2/2 [==============================] - 9s 5s/step - loss: 2.1641 - accuracy: 0.1781 - val_loss: 2.1784 - val_accuracy: 0.1654\n",
            "Epoch 9/10\n"
          ]
        }
      ]
    },
    {
      "cell_type": "code",
      "source": [
        "# Print the best hyperparameters\n",
        "best_hps = tuner.get_best_hyperparameters(num_trials=1)[0]"
      ],
      "metadata": {
        "id": "EA8IT31Uz21p"
      },
      "execution_count": null,
      "outputs": []
    },
    {
      "cell_type": "code",
      "source": [
        "best_learning_rate = 0.01\n",
        "best_dropout_rate = 0.2"
      ],
      "metadata": {
        "id": "3l8PlWSM0icf"
      },
      "execution_count": null,
      "outputs": []
    },
    {
      "cell_type": "code",
      "source": [
        "# Create the ClassificationCNN model\n",
        "classification_model = ClassificationCNN(model)"
      ],
      "metadata": {
        "id": "9GaLE0kSwff4"
      },
      "execution_count": null,
      "outputs": []
    },
    {
      "cell_type": "code",
      "source": [
        "classification_model.compile(optimizer='adam', loss='categorical_crossentropy', metrics=['accuracy'])"
      ],
      "metadata": {
        "id": "3sQ3tQksPJqA"
      },
      "execution_count": null,
      "outputs": []
    },
    {
      "cell_type": "code",
      "source": [
        "optimizer = Adam(learning_rate=best_learning_rate)"
      ],
      "metadata": {
        "id": "TLzRVPrGz1qw"
      },
      "execution_count": null,
      "outputs": []
    },
    {
      "cell_type": "code",
      "source": [
        "classification_model.fit(train_generator, epochs=30)"
      ],
      "metadata": {
        "id": "wvFFjxYoI_lT",
        "colab": {
          "base_uri": "https://localhost:8080/"
        },
        "outputId": "a32ce619-d8ac-4ecd-828f-4cb1cd62dcf2"
      },
      "execution_count": null,
      "outputs": [
        {
          "output_type": "stream",
          "name": "stdout",
          "text": [
            "Epoch 1/30\n",
            "2/2 [==============================] - 52s 9s/step - loss: 2.1960 - accuracy: 0.1255\n",
            "Epoch 2/30\n",
            "2/2 [==============================] - 6s 3s/step - loss: 2.1138 - accuracy: 0.1417\n",
            "Epoch 3/30\n",
            "2/2 [==============================] - 6s 3s/step - loss: 2.0621 - accuracy: 0.1680\n",
            "Epoch 4/30\n",
            "2/2 [==============================] - 6s 3s/step - loss: 2.0209 - accuracy: 0.2146\n",
            "Epoch 5/30\n",
            "2/2 [==============================] - 6s 3s/step - loss: 1.9832 - accuracy: 0.2713\n",
            "Epoch 6/30\n",
            "2/2 [==============================] - 6s 3s/step - loss: 1.9671 - accuracy: 0.3036\n",
            "Epoch 7/30\n",
            "2/2 [==============================] - 6s 3s/step - loss: 1.9560 - accuracy: 0.3239\n",
            "Epoch 8/30\n",
            "2/2 [==============================] - 6s 2s/step - loss: 1.9395 - accuracy: 0.3360\n",
            "Epoch 9/30\n",
            "2/2 [==============================] - 6s 3s/step - loss: 1.9203 - accuracy: 0.3684\n",
            "Epoch 10/30\n",
            "2/2 [==============================] - 6s 3s/step - loss: 1.9176 - accuracy: 0.3441\n",
            "Epoch 11/30\n",
            "2/2 [==============================] - 7s 3s/step - loss: 1.9062 - accuracy: 0.3522\n",
            "Epoch 12/30\n",
            "2/2 [==============================] - 6s 3s/step - loss: 1.9050 - accuracy: 0.3563\n",
            "Epoch 13/30\n",
            "2/2 [==============================] - 6s 3s/step - loss: 1.8957 - accuracy: 0.3563\n",
            "Epoch 14/30\n",
            "2/2 [==============================] - 5s 3s/step - loss: 1.8946 - accuracy: 0.4231\n",
            "Epoch 15/30\n",
            "2/2 [==============================] - 6s 3s/step - loss: 1.8890 - accuracy: 0.4636\n",
            "Epoch 16/30\n",
            "2/2 [==============================] - 6s 3s/step - loss: 1.8832 - accuracy: 0.4717\n",
            "Epoch 17/30\n",
            "2/2 [==============================] - 6s 3s/step - loss: 1.8816 - accuracy: 0.4777\n",
            "Epoch 18/30\n",
            "2/2 [==============================] - 6s 2s/step - loss: 1.8754 - accuracy: 0.5162\n",
            "Epoch 19/30\n",
            "2/2 [==============================] - 6s 3s/step - loss: 1.8770 - accuracy: 0.5324\n",
            "Epoch 20/30\n",
            "2/2 [==============================] - 6s 3s/step - loss: 1.8711 - accuracy: 0.5648\n",
            "Epoch 21/30\n",
            "2/2 [==============================] - 6s 3s/step - loss: 1.8695 - accuracy: 0.5709\n",
            "Epoch 22/30\n",
            "2/2 [==============================] - 6s 3s/step - loss: 1.8673 - accuracy: 0.5789\n",
            "Epoch 23/30\n",
            "2/2 [==============================] - 6s 3s/step - loss: 1.8649 - accuracy: 0.5587\n",
            "Epoch 24/30\n",
            "2/2 [==============================] - 5s 3s/step - loss: 1.8618 - accuracy: 0.5688\n",
            "Epoch 25/30\n",
            "2/2 [==============================] - 6s 3s/step - loss: 1.8645 - accuracy: 0.5628\n",
            "Epoch 26/30\n",
            "2/2 [==============================] - 6s 3s/step - loss: 1.8698 - accuracy: 0.5567\n",
            "Epoch 27/30\n",
            "2/2 [==============================] - 6s 3s/step - loss: 1.8749 - accuracy: 0.5344\n",
            "Epoch 28/30\n",
            "2/2 [==============================] - 6s 3s/step - loss: 1.8766 - accuracy: 0.5344\n",
            "Epoch 29/30\n",
            "2/2 [==============================] - 6s 3s/step - loss: 1.8691 - accuracy: 0.5526\n",
            "Epoch 30/30\n",
            "2/2 [==============================] - 6s 3s/step - loss: 1.8676 - accuracy: 0.5486\n"
          ]
        },
        {
          "output_type": "execute_result",
          "data": {
            "text/plain": [
              "<keras.src.callbacks.History at 0x7b48a13a90c0>"
            ]
          },
          "metadata": {},
          "execution_count": 27
        }
      ]
    },
    {
      "cell_type": "code",
      "source": [
        "test_loss, test_accuracy = classification_model.evaluate(test_generator)\n",
        "print(f'Test Loss: {test_loss:.4f}')\n",
        "print(f'Test Accuracy: {test_accuracy:.4f}')"
      ],
      "metadata": {
        "colab": {
          "base_uri": "https://localhost:8080/"
        },
        "id": "2oWZh_Zl1d3T",
        "outputId": "fc515160-93b3-4969-f3b9-2da62f189450"
      },
      "execution_count": null,
      "outputs": [
        {
          "output_type": "stream",
          "name": "stdout",
          "text": [
            "1/1 [==============================] - 6s 6s/step - loss: 2.2621 - accuracy: 0.2054\n",
            "Test Loss: 2.2621\n",
            "Test Accuracy: 0.2054\n"
          ]
        }
      ]
    },
    {
      "cell_type": "code",
      "execution_count": null,
      "metadata": {
        "id": "fi9fmWtBVwm-",
        "colab": {
          "base_uri": "https://localhost:8080/"
        },
        "outputId": "29cdf21d-b451-4f69-f9d5-87814d2060c0"
      },
      "outputs": [
        {
          "output_type": "stream",
          "name": "stdout",
          "text": [
            "1/1 [==============================] - 3s 3s/step\n"
          ]
        }
      ],
      "source": [
        "predicted_labels = classification_model.predict(test_generator)\n",
        "predicted_labels = np.argmax(predicted_labels, axis=1)\n",
        "\n",
        "true_labels = test_generator.classes\n",
        "\n",
        "conf_matrix = confusion_matrix(true_labels, predicted_labels)"
      ]
    },
    {
      "cell_type": "code",
      "execution_count": null,
      "metadata": {
        "id": "n51fwdDmVwxI",
        "colab": {
          "base_uri": "https://localhost:8080/",
          "height": 754
        },
        "outputId": "88079207-a9a5-453a-cfb7-fe91798f6f72"
      },
      "outputs": [
        {
          "output_type": "display_data",
          "data": {
            "text/plain": [
              "<Figure size 1000x800 with 1 Axes>"
            ],
            "image/png": "[encoded data removed]"
          },
          "metadata": {}
        }
      ],
      "source": [
        "conf_matrix = confusion_matrix(true_labels, predicted_labels)\n",
        "\n",
        "labels = ['Fish', 'Goldfish', 'Seal', 'Jellyfish', 'Lobster', 'Oyster', 'Turtle', 'Squid', 'Starfish']\n",
        "\n",
        "plt.figure(figsize=(10, 8))\n",
        "sns.heatmap(conf_matrix, annot=True, fmt=\"d\", cmap=\"Blues\", cbar=False, xticklabels=labels, yticklabels=labels)\n",
        "plt.xlabel('Predicted Labels')\n",
        "plt.ylabel('True Labels')\n",
        "plt.title('Confusion Matrix')\n",
        "plt.xticks(rotation=45)\n",
        "plt.yticks(rotation=45)\n",
        "plt.show()"
      ]
    },
    {
      "cell_type": "code",
      "source": [
        "class MetricsCallback(Callback):\n",
        "    def __init__(self):\n",
        "        super().__init__()\n",
        "        self.train_loss = []\n",
        "        self.val_loss = []\n",
        "        self.train_accuracy = []\n",
        "        self.val_accuracy = []\n",
        "\n",
        "    def on_epoch_end(self, epoch, logs=None):\n",
        "        self.train_loss.append(logs.get('loss'))\n",
        "        self.val_loss.append(logs.get('val_loss'))\n",
        "        self.train_accuracy.append(logs.get('accuracy'))\n",
        "        self.val_accuracy.append(logs.get('val_accuracy'))\n",
        "\n",
        "metrics_callback = MetricsCallback()\n",
        "history = classification_model.fit(train_generator, epochs=30, validation_data=validation_generator, callbacks=[metrics_callback])\n",
        "\n",
        "epochs = range(1, len(metrics_callback.train_loss) + 1)\n",
        "\n",
        "plt.figure(figsize=(12, 5))\n",
        "\n",
        "plt.subplot(1, 2, 1)\n",
        "plt.plot(epochs, metrics_callback.train_loss, label='Training Loss')\n",
        "plt.plot(epochs, metrics_callback.val_loss, label='Validation Loss')\n",
        "plt.title('Training and Validation Loss')\n",
        "plt.xlabel('Epochs')\n",
        "plt.ylabel('Loss')\n",
        "plt.legend()\n",
        "\n",
        "plt.subplot(1, 2, 2)\n",
        "plt.plot(epochs, metrics_callback.train_accuracy, label='Training Accuracy')\n",
        "plt.plot(epochs, metrics_callback.val_accuracy, label='Validation Accuracy')\n",
        "plt.title('Training and Validation Accuracy')\n",
        "plt.xlabel('Epochs')\n",
        "plt.ylabel('Accuracy')\n",
        "plt.legend()\n",
        "\n",
        "plt.tight_layout()\n",
        "plt.show()"
      ],
      "metadata": {
        "colab": {
          "base_uri": "https://localhost:8080/",
          "height": 1000
        },
        "id": "XSY6RD7D8exJ",
        "outputId": "730ff399-fcf7-42c8-e0e8-1a49e7b0cd31"
      },
      "execution_count": null,
      "outputs": [
        {
          "output_type": "stream",
          "name": "stdout",
          "text": [
            "Epoch 1/30\n",
            "2/2 [==============================] - 10s 7s/step - loss: 1.8644 - accuracy: 0.5547 - val_loss: 2.1890 - val_accuracy: 0.1969\n",
            "Epoch 2/30\n",
            "2/2 [==============================] - 8s 5s/step - loss: 1.8808 - accuracy: 0.5385 - val_loss: 2.2215 - val_accuracy: 0.1575\n",
            "Epoch 3/30\n",
            "2/2 [==============================] - 9s 6s/step - loss: 1.8777 - accuracy: 0.5385 - val_loss: 2.1903 - val_accuracy: 0.2047\n",
            "Epoch 4/30\n",
            "2/2 [==============================] - 7s 4s/step - loss: 1.8712 - accuracy: 0.5405 - val_loss: 2.1512 - val_accuracy: 0.1732\n",
            "Epoch 5/30\n",
            "2/2 [==============================] - 8s 5s/step - loss: 1.8648 - accuracy: 0.5445 - val_loss: 2.1783 - val_accuracy: 0.1890\n",
            "Epoch 6/30\n",
            "2/2 [==============================] - 7s 4s/step - loss: 1.8557 - accuracy: 0.5648 - val_loss: 2.2136 - val_accuracy: 0.1496\n",
            "Epoch 7/30\n",
            "2/2 [==============================] - 8s 5s/step - loss: 1.8556 - accuracy: 0.5668 - val_loss: 2.2358 - val_accuracy: 0.1654\n",
            "Epoch 8/30\n",
            "2/2 [==============================] - 7s 4s/step - loss: 1.8561 - accuracy: 0.5466 - val_loss: 2.1710 - val_accuracy: 0.1654\n",
            "Epoch 9/30\n",
            "2/2 [==============================] - 8s 4s/step - loss: 1.8524 - accuracy: 0.5385 - val_loss: 2.2434 - val_accuracy: 0.1575\n",
            "Epoch 10/30\n",
            "2/2 [==============================] - 8s 5s/step - loss: 1.8495 - accuracy: 0.5486 - val_loss: 2.2929 - val_accuracy: 0.1417\n",
            "Epoch 11/30\n",
            "2/2 [==============================] - 7s 4s/step - loss: 1.8428 - accuracy: 0.5607 - val_loss: 2.2733 - val_accuracy: 0.1339\n",
            "Epoch 12/30\n",
            "2/2 [==============================] - 8s 5s/step - loss: 1.8374 - accuracy: 0.5668 - val_loss: 2.2361 - val_accuracy: 0.1969\n",
            "Epoch 13/30\n",
            "2/2 [==============================] - 7s 4s/step - loss: 1.8309 - accuracy: 0.5688 - val_loss: 2.2392 - val_accuracy: 0.1811\n",
            "Epoch 14/30\n",
            "2/2 [==============================] - 8s 4s/step - loss: 1.8270 - accuracy: 0.5850 - val_loss: 2.2398 - val_accuracy: 0.1732\n",
            "Epoch 15/30\n",
            "2/2 [==============================] - 8s 6s/step - loss: 1.8340 - accuracy: 0.5769 - val_loss: 2.2561 - val_accuracy: 0.1654\n",
            "Epoch 16/30\n",
            "2/2 [==============================] - 7s 4s/step - loss: 1.8307 - accuracy: 0.5709 - val_loss: 2.2559 - val_accuracy: 0.1260\n",
            "Epoch 17/30\n",
            "2/2 [==============================] - 8s 5s/step - loss: 1.8233 - accuracy: 0.5729 - val_loss: 2.2115 - val_accuracy: 0.1732\n",
            "Epoch 18/30\n",
            "2/2 [==============================] - 7s 4s/step - loss: 1.8252 - accuracy: 0.5749 - val_loss: 2.1591 - val_accuracy: 0.2047\n",
            "Epoch 19/30\n",
            "2/2 [==============================] - 8s 4s/step - loss: 1.8185 - accuracy: 0.5749 - val_loss: 2.1618 - val_accuracy: 0.1654\n",
            "Epoch 20/30\n",
            "2/2 [==============================] - 7s 4s/step - loss: 1.8198 - accuracy: 0.5709 - val_loss: 2.1770 - val_accuracy: 0.1417\n",
            "Epoch 21/30\n",
            "2/2 [==============================] - 7s 4s/step - loss: 1.8164 - accuracy: 0.5769 - val_loss: 2.1828 - val_accuracy: 0.1260\n",
            "Epoch 22/30\n",
            "2/2 [==============================] - 8s 5s/step - loss: 1.8158 - accuracy: 0.5850 - val_loss: 2.1841 - val_accuracy: 0.1339\n",
            "Epoch 23/30\n",
            "2/2 [==============================] - 8s 6s/step - loss: 1.8141 - accuracy: 0.5830 - val_loss: 2.1808 - val_accuracy: 0.1417\n",
            "Epoch 24/30\n",
            "2/2 [==============================] - 7s 4s/step - loss: 1.8110 - accuracy: 0.5830 - val_loss: 2.1776 - val_accuracy: 0.1417\n",
            "Epoch 25/30\n",
            "2/2 [==============================] - 8s 5s/step - loss: 1.8121 - accuracy: 0.5810 - val_loss: 2.1723 - val_accuracy: 0.1575\n",
            "Epoch 26/30\n",
            "2/2 [==============================] - 8s 5s/step - loss: 1.8125 - accuracy: 0.5789 - val_loss: 2.1681 - val_accuracy: 0.1496\n",
            "Epoch 27/30\n",
            "2/2 [==============================] - 7s 4s/step - loss: 1.8153 - accuracy: 0.5729 - val_loss: 2.1433 - val_accuracy: 0.1811\n",
            "Epoch 28/30\n",
            "2/2 [==============================] - 8s 5s/step - loss: 1.8073 - accuracy: 0.5789 - val_loss: 2.1237 - val_accuracy: 0.1732\n",
            "Epoch 29/30\n",
            "2/2 [==============================] - 7s 4s/step - loss: 1.8054 - accuracy: 0.5769 - val_loss: 2.1097 - val_accuracy: 0.1969\n",
            "Epoch 30/30\n",
            "2/2 [==============================] - 8s 4s/step - loss: 1.8061 - accuracy: 0.5769 - val_loss: 2.1184 - val_accuracy: 0.2441\n"
          ]
        },
        {
          "output_type": "display_data",
          "data": {
            "text/plain": [
              "<Figure size 1200x500 with 2 Axes>"
            ],
            "image/png": "[encoded data removed]"
          },
          "metadata": {}
        }
      ]
    }
  ],
  "metadata": {
    "colab": {
      "provenance": [],
      "gpuType": "V100"
    },
    "kernelspec": {
      "display_name": "Python 3",
      "name": "python3"
    },
    "language_info": {
      "name": "python"
    },
    "accelerator": "GPU"
  },
  "nbformat": 4,
  "nbformat_minor": 0
}